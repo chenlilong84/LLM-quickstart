{
  "cells": [
    {
      "cell_type": "markdown",
      "metadata": {
        "id": "view-in-github",
        "colab_type": "text"
      },
      "source": [
        "<a href=\"https://colab.research.google.com/github/chenlilong84/LLM-quickstart/blob/main/transformers/pipelines_advanced.ipynb\" target=\"_parent\"><img src=\"https://colab.research.google.com/assets/colab-badge.svg\" alt=\"Open In Colab\"/></a>"
      ]
    },
    {
      "cell_type": "code",
      "source": [],
      "metadata": {
        "id": "EaAGeANkV0m8"
      },
      "id": "EaAGeANkV0m8",
      "execution_count": null,
      "outputs": []
    },
    {
      "cell_type": "markdown",
      "id": "74083d2a-cf45-4bae-be70-57eefa5de105",
      "metadata": {
        "id": "74083d2a-cf45-4bae-be70-57eefa5de105"
      },
      "source": [
        "# HF Transformers 核心模块学习：Pipelines 进阶\n",
        "\n",
        "我们已经学习了 Pipeline API 针对各类任务的基本使用。\n",
        "\n",
        "实际上，在 Transformers 库内部实现中，Pipeline 作为管理：`原始文本-输入Token IDs-模型推理-输出概率-生成结果` 的流水线抽象，背后串联了 Transformers 库的核心模块 `Tokenizer`和 `Models`。\n",
        "\n",
        "![](https://github.com/DjangoPeng/LLM-quickstart/blob/main/transformers/docs/images/pipeline_advanced.png?raw=1)\n",
        "\n",
        "下面我们开始结合大语言模型（在 Transformers 中也是一种特定任务）学习：\n",
        "\n",
        "- 使用 Pipeline 如何与现代的大语言模型结合，以完成各类下游任务\n",
        "- 使用 Tokenizer 编解码文本\n",
        "- 使用 Models 加载和保存模型"
      ]
    },
    {
      "cell_type": "markdown",
      "id": "9dc4e96d-49a1-4ac2-843f-e9e21af9602c",
      "metadata": {
        "id": "9dc4e96d-49a1-4ac2-843f-e9e21af9602c"
      },
      "source": [
        "## 使用 Pipeline 调用大语言模型\n",
        "\n",
        "### Language Modeling\n",
        "\n",
        "语言建模是一项预测文本序列中的单词的任务。它已经成为非常流行的自然语言处理任务，因为预训练的语言模型可以用于许多其他下游任务的微调。最近，对大型语言模型（LLMs）产生了很大兴趣，这些模型展示了零或少量样本学习能力。这意味着该模型可以解决其未经明确训练过的任务！虽然语言模型可用于生成流畅且令人信服的文本，但需要小心使用，因为文本可能并不总是准确无误。\n",
        "\n",
        "通过理论篇学习，我们了解到有两种典型的语言模型：\n",
        "\n",
        "- 自回归：模型目标是预测序列中的下一个 Token（文本），训练时对下文进行了掩码。如：GPT-3。\n",
        "- 自编码：模型目标是理解上下文后，补全句子中丢失/掩码的 Token（文本）。如：BERT。\n"
      ]
    },
    {
      "cell_type": "code",
      "source": [],
      "metadata": {
        "id": "ytvYffZeUV1P"
      },
      "id": "ytvYffZeUV1P",
      "execution_count": null,
      "outputs": []
    },
    {
      "cell_type": "markdown",
      "id": "501715fc-ec83-4f15-9f85-800e2dfd9398",
      "metadata": {
        "id": "501715fc-ec83-4f15-9f85-800e2dfd9398"
      },
      "source": [
        "### 使用 GPT-2 实现文本生成\n",
        "\n",
        "![](https://github.com/DjangoPeng/LLM-quickstart/blob/main/transformers/docs/images/gpt2.png?raw=1)\n",
        "\n",
        "模型主页：https://huggingface.co/gpt2"
      ]
    },
    {
      "cell_type": "code",
      "execution_count": 4,
      "id": "6e27276b-c488-4205-a94a-e77067aee5db",
      "metadata": {
        "id": "6e27276b-c488-4205-a94a-e77067aee5db",
        "outputId": "d1cb31db-4ee3-4761-912a-e8849777c983",
        "colab": {
          "base_uri": "https://localhost:8080/"
        }
      },
      "outputs": [
        {
          "output_type": "stream",
          "name": "stderr",
          "text": [
            "Device set to use cpu\n",
            "Setting `pad_token_id` to `eos_token_id`:50256 for open-end generation.\n"
          ]
        },
        {
          "output_type": "execute_result",
          "data": {
            "text/plain": [
              "[{'generated_text': 'Hugging Face is a community-based open-source platform for machine learning. It uses a simple, user-friendly and easy-to-use graphical interface to allow developers to write applications that learn to identify faces with appropriate recognition by automatically interpreting face'}]"
            ]
          },
          "metadata": {},
          "execution_count": 4
        }
      ],
      "source": [
        "from transformers import pipeline\n",
        "\n",
        "prompt = \"Hugging Face is a community-based open-source platform for machine learning.\"\n",
        "generator = pipeline(task=\"text-generation\", model=\"gpt2\")\n",
        "generator(prompt)"
      ]
    },
    {
      "cell_type": "markdown",
      "id": "71218c39-488f-40f0-9ebd-64e00a66b825",
      "metadata": {
        "id": "71218c39-488f-40f0-9ebd-64e00a66b825"
      },
      "source": [
        "#### 设置文本生成返回条数"
      ]
    },
    {
      "cell_type": "code",
      "execution_count": 6,
      "id": "960eec18-cd84-4605-b0d5-a52191c278e4",
      "metadata": {
        "id": "960eec18-cd84-4605-b0d5-a52191c278e4",
        "outputId": "513b865f-20c8-4306-9ea1-33a77a7c3823",
        "colab": {
          "base_uri": "https://localhost:8080/"
        }
      },
      "outputs": [
        {
          "output_type": "stream",
          "name": "stderr",
          "text": [
            "Device set to use cpu\n"
          ]
        }
      ],
      "source": [
        "prompt = \"You are very smart\"\n",
        "generator = pipeline(task=\"text-generation\", model=\"gpt2\", num_return_sequences=3)"
      ]
    },
    {
      "cell_type": "code",
      "execution_count": 7,
      "id": "09fcddb8-bd6b-4194-add6-f63077ff0192",
      "metadata": {
        "id": "09fcddb8-bd6b-4194-add6-f63077ff0192",
        "outputId": "cf4bcd6a-c49e-4c2e-d225-a654ef0e88b3",
        "colab": {
          "base_uri": "https://localhost:8080/"
        }
      },
      "outputs": [
        {
          "output_type": "stream",
          "name": "stderr",
          "text": [
            "Setting `pad_token_id` to `eos_token_id`:50256 for open-end generation.\n"
          ]
        },
        {
          "output_type": "execute_result",
          "data": {
            "text/plain": [
              "[{'generated_text': 'You are very smart. How is the only person he or she knows who\\'s really able to help you, when he or she isn\\'t able to help you?\"\\n\\n\"Oh, very smart,\" said John, rolling into his bedroom. \"'},\n",
              " {'generated_text': 'You are very smart, and I am very good at math. I am very good at math.\"\\n\\nYou are good at math. You are very good at math\\n\\nThe professor also claimed she made about $100,000 a year in'},\n",
              " {'generated_text': 'You are very smart, if you want a good company, and you are very dedicated to helping other people. You don\\'t have that sort of work ethic,\" she says.\\n\\nAnd at a meeting last month of the International Business Development Commission,'}]"
            ]
          },
          "metadata": {},
          "execution_count": 7
        }
      ],
      "source": [
        "generator(prompt)"
      ]
    },
    {
      "cell_type": "code",
      "execution_count": 8,
      "id": "7ae18861-4ac3-4df2-8716-c0bde84fe601",
      "metadata": {
        "id": "7ae18861-4ac3-4df2-8716-c0bde84fe601",
        "outputId": "a3bc8fe2-b000-4c4a-bea6-e23335698c26",
        "colab": {
          "base_uri": "https://localhost:8080/"
        }
      },
      "outputs": [
        {
          "output_type": "stream",
          "name": "stderr",
          "text": [
            "Setting `pad_token_id` to `eos_token_id`:50256 for open-end generation.\n"
          ]
        },
        {
          "output_type": "execute_result",
          "data": {
            "text/plain": [
              "[{'generated_text': 'You are very smart and quite good with the tools, but very simple and hard to use. I think so many people do this. Let me explain. Firstly, no one will care so you, and you alone, cannot be responsible for what you'},\n",
              " {'generated_text': 'You are very smart. You use intuition.\"\\n\\nAnd they used intuition to help their clients. So, when their client asked them, \"Do you know? When would you put one in your life?\" They were very smart.\\n\\nSo'}]"
            ]
          },
          "metadata": {},
          "execution_count": 8
        }
      ],
      "source": [
        "generator(prompt, num_return_sequences=2)"
      ]
    },
    {
      "cell_type": "markdown",
      "id": "be167b91-898f-4840-9da9-3646e91bfdbf",
      "metadata": {
        "id": "be167b91-898f-4840-9da9-3646e91bfdbf"
      },
      "source": [
        "#### 设置文本生成最大长度"
      ]
    },
    {
      "cell_type": "code",
      "execution_count": 11,
      "id": "496ffdf4-a3a6-4396-92ae-47b4784766dc",
      "metadata": {
        "id": "496ffdf4-a3a6-4396-92ae-47b4784766dc",
        "outputId": "8d9150a8-df05-4820-ee20-93c09737b946",
        "colab": {
          "base_uri": "https://localhost:8080/"
        }
      },
      "outputs": [
        {
          "output_type": "stream",
          "name": "stderr",
          "text": [
            "Setting `pad_token_id` to `eos_token_id`:50256 for open-end generation.\n"
          ]
        },
        {
          "output_type": "execute_result",
          "data": {
            "text/plain": [
              "[{'generated_text': 'You are very smart but he does not care enough for your good standing. In fact, I think he might tell you, \"You need to stop'},\n",
              " {'generated_text': 'You are very smart!\" \"Oh!\" He said. \"A girl can handle your little tricks!\" So it started. I turned to see that her'},\n",
              " {'generated_text': \"You are very smart and your mind is more advanced than ours, and we have all the information we are going to need on your behalf – it's\"},\n",
              " {'generated_text': 'You are very smart. Your brain has a history of knowing things about you, too.\"\\n\\n\"I know things I\\'ve read, but I'},\n",
              " {'generated_text': 'You are very smart. You have learned how to speak German. You know how to write and read. You know everything about mathematics. But what would'},\n",
              " {'generated_text': 'You are very smart for your life,\" says Kajur.\\n\\n\"Let us be like that and put on our clothes and our bags,\"'},\n",
              " {'generated_text': 'You are very smart... you know what I\\'m talking about.\"\\n\\n\"And you are also capable of helping me find my voice.\"\\n\\n'},\n",
              " {'generated_text': 'You are very smart. I am very serious. I know I did something stupid. I was caught, but I let myself go and I did it'},\n",
              " {'generated_text': \"You are very smart and your abilities are pretty obvious. If they do not know how to use it then they will never learn it. What's not\"},\n",
              " {'generated_text': 'You are very smart to try to keep your kids safe… but I still cannot agree and can not say that they are much better off.\"\\n\\n'},\n",
              " {'generated_text': 'You are very smart if you can see past the lies, and believe what you believe.\"\\n\\n[youtube http://www.youtube.com/'},\n",
              " {'generated_text': 'You are very smart young-girl.\"\\n\\nDylan, also known as \"the King of Hearts\", was a member of the band, who'},\n",
              " {'generated_text': 'You are very smart! Are you? Did you teach her at your house, or did you work for yourself? Who was my sister for lunch?'},\n",
              " {'generated_text': 'You are very smart, and I really like him. I actually think he could be my big friend if they could have met like five minutes ago,'},\n",
              " {'generated_text': 'You are very smart, and will make every effort to be the best person you can be in a positive and constructive way,\" she told a state Senate'},\n",
              " {'generated_text': 'You are very smart. If you are smart it is really hard to keep track of all the time you spend on the go and you might have some'},\n",
              " {'generated_text': 'You are very smart and smart when that matters, you are very good when you are really smart. You are going to have a positive impact on your'},\n",
              " {'generated_text': 'You are very smart!\\n\\nThis post is edited by djordan77 on Nov 9, 2017 at 09:54 am.'},\n",
              " {'generated_text': \"You are very smart. We got this information from the person on the ground. It's not a big deal. We were looking in the air,\"},\n",
              " {'generated_text': 'You are very smart, very good at how I work,\" she says.\\n\\nShe says she and the other staff members are going to work together'}]"
            ]
          },
          "metadata": {},
          "execution_count": 11
        }
      ],
      "source": [
        "generator(prompt, num_return_sequences=20, max_length=30)"
      ]
    },
    {
      "cell_type": "code",
      "execution_count": null,
      "id": "37bad445-bbd9-49a0-875b-624711263c00",
      "metadata": {
        "id": "37bad445-bbd9-49a0-875b-624711263c00"
      },
      "outputs": [],
      "source": []
    },
    {
      "cell_type": "markdown",
      "id": "e1b519e4-2a3b-47d8-98f2-96d8e9980b93",
      "metadata": {
        "id": "e1b519e4-2a3b-47d8-98f2-96d8e9980b93"
      },
      "source": [
        "### 使用 BERT-Base-Chinese 实现中文补全\n",
        "\n",
        "![](https://github.com/DjangoPeng/LLM-quickstart/blob/main/transformers/docs/images/bert-base-chinese.png?raw=1)\n",
        "\n",
        "模型主页：https://huggingface.co/bert-base-chinese"
      ]
    },
    {
      "cell_type": "code",
      "execution_count": 12,
      "id": "f1a09f2a-17a3-436a-b98d-3f65ef68bf47",
      "metadata": {
        "id": "f1a09f2a-17a3-436a-b98d-3f65ef68bf47",
        "outputId": "911fa48a-4356-4764-e7ee-00ee91f42d0b",
        "colab": {
          "base_uri": "https://localhost:8080/",
          "height": 336,
          "referenced_widgets": [
            "e69aed9ea6074a419b5b7aa8467e4db1",
            "7e8ff0cca7524b58bf42ddaac820b5ad",
            "fd2a05e48e2243b0952cc8fcb308acfb",
            "9f92e317c097482981ca125ef44189a6",
            "44344c9fd15046d28acdde8aa16ab4d2",
            "8540e5f66a60475f929a8af605c5f913",
            "fe5e83e13efc444e8f06c592294089d3",
            "7e8f62840a4840bebfdba4ff4ba7a080",
            "d29bf710496f49f2bf8ec21ea8345212",
            "074b96a261974652bbdc7780363962b2",
            "fe680abdda7c4a8fb592fa82f8b28ff0",
            "b36c1900e63f4bcfa695b2d3023851a5",
            "afbdba063a7c4a96b07e0e264f200c9c",
            "59b1fc5df99749a79ab1d91bd8a85e2e",
            "364deafa49024770ba7b6f0db1711ca3",
            "96ca9f151cc244a6aaadef9821a4f86b",
            "d14c1728a61243f8b12e7c500e6c78a2",
            "e1ed3947bccc4be78580789e59c8c942",
            "b44f4db89a0547b8a863bbc8fe5da5a7",
            "52745674c33b4a00900a464c8d9390dd",
            "139a23eb74ef4417b2541e3129b12077",
            "79377674d6654b6fa2aea9494947a71c",
            "71c50bbd3ebb4972b032b40311c9a380",
            "d973dc1858d5488db0632fbd80ca82f5",
            "2482bea9415a4dd3a4247ed4513d2996",
            "fabac09f699b4915ac1f04304234a457",
            "b71a70de428b44bb83c32e78712c72be",
            "51602745d7514c39a01b926d4ca1b0b2",
            "adffc3b87cca4059a10cd8b8f30b81b2",
            "d06792b88e5146b4b1259f60070c2566",
            "803e2b5c93ff4ff4a31853f67f6812bd",
            "fd97f15be20b4cd6a489b2cd59a878e0",
            "fda00d3d318e4bcd907853a02ca8d993",
            "8a2477dbe6804d6781b6b1f4065c7421",
            "a270f348359b4abfb3b38dfebbc2fde2",
            "ba157d9aa9c24a65b024cdcc88a1ddb3",
            "c88511184b2d4f798a8fa0aa222d328f",
            "1e7ebbfa0619455595c96f23f94b74aa",
            "832371d8b42d4f85af28206f0d36ab59",
            "019d48eefa6049939f1e146b2a6e05eb",
            "a350cee37f9747ea9bd14160896ec9b9",
            "0418953b3f2a4c80900c814da89de4cb",
            "dcdbd5409c6d4d93988e47cd2fad7632",
            "2b9905afcb104a02916671809730aee9",
            "b21c1bdd523148b7a41e233c14231ff1",
            "9659d0491cad48e1a1a7fe6a68945eba",
            "8e2c95c01b944510a092dff2b5417be9",
            "22790fee0a1f4f79ae94d499cd275c05",
            "dc71c233e1224c9b8b1618694426e962",
            "6c678a66afdc4e86b1cb10872c91a8b2",
            "4ba1b47919bb4746b60e85dc91e2b80a",
            "ab0a7d6801704d79bb4155ac033490e0",
            "83a47c48689c43c097e86a51182993f8",
            "430e112217e646a697dd3a194f74a718",
            "5f8adc9af3474741bf6ee6268206b483"
          ]
        }
      },
      "outputs": [
        {
          "output_type": "display_data",
          "data": {
            "text/plain": [
              "config.json:   0%|          | 0.00/624 [00:00<?, ?B/s]"
            ],
            "application/vnd.jupyter.widget-view+json": {
              "version_major": 2,
              "version_minor": 0,
              "model_id": "e69aed9ea6074a419b5b7aa8467e4db1"
            }
          },
          "metadata": {}
        },
        {
          "output_type": "display_data",
          "data": {
            "text/plain": [
              "model.safetensors:   0%|          | 0.00/412M [00:00<?, ?B/s]"
            ],
            "application/vnd.jupyter.widget-view+json": {
              "version_major": 2,
              "version_minor": 0,
              "model_id": "b36c1900e63f4bcfa695b2d3023851a5"
            }
          },
          "metadata": {}
        },
        {
          "output_type": "stream",
          "name": "stderr",
          "text": [
            "BertForMaskedLM has generative capabilities, as `prepare_inputs_for_generation` is explicitly overwritten. However, it doesn't directly inherit from `GenerationMixin`. From 👉v4.50👈 onwards, `PreTrainedModel` will NOT inherit from `GenerationMixin`, and this model will lose the ability to call `generate` and other related functions.\n",
            "  - If you're using `trust_remote_code=True`, you can get rid of this warning by loading the model with an auto class. See https://huggingface.co/docs/transformers/en/model_doc/auto#auto-classes\n",
            "  - If you are the owner of the model architecture code, please modify your model class such that it inherits from `GenerationMixin` (after `PreTrainedModel`, otherwise you'll get an exception).\n",
            "  - If you are not the owner of the model architecture class, please contact the model code owner to update it.\n",
            "Some weights of the model checkpoint at bert-base-chinese were not used when initializing BertForMaskedLM: ['bert.pooler.dense.bias', 'bert.pooler.dense.weight', 'cls.seq_relationship.bias', 'cls.seq_relationship.weight']\n",
            "- This IS expected if you are initializing BertForMaskedLM from the checkpoint of a model trained on another task or with another architecture (e.g. initializing a BertForSequenceClassification model from a BertForPreTraining model).\n",
            "- This IS NOT expected if you are initializing BertForMaskedLM from the checkpoint of a model that you expect to be exactly identical (initializing a BertForSequenceClassification model from a BertForSequenceClassification model).\n"
          ]
        },
        {
          "output_type": "display_data",
          "data": {
            "text/plain": [
              "tokenizer_config.json:   0%|          | 0.00/49.0 [00:00<?, ?B/s]"
            ],
            "application/vnd.jupyter.widget-view+json": {
              "version_major": 2,
              "version_minor": 0,
              "model_id": "71c50bbd3ebb4972b032b40311c9a380"
            }
          },
          "metadata": {}
        },
        {
          "output_type": "display_data",
          "data": {
            "text/plain": [
              "vocab.txt:   0%|          | 0.00/110k [00:00<?, ?B/s]"
            ],
            "application/vnd.jupyter.widget-view+json": {
              "version_major": 2,
              "version_minor": 0,
              "model_id": "8a2477dbe6804d6781b6b1f4065c7421"
            }
          },
          "metadata": {}
        },
        {
          "output_type": "display_data",
          "data": {
            "text/plain": [
              "tokenizer.json:   0%|          | 0.00/269k [00:00<?, ?B/s]"
            ],
            "application/vnd.jupyter.widget-view+json": {
              "version_major": 2,
              "version_minor": 0,
              "model_id": "b21c1bdd523148b7a41e233c14231ff1"
            }
          },
          "metadata": {}
        },
        {
          "output_type": "stream",
          "name": "stderr",
          "text": [
            "Device set to use cpu\n"
          ]
        }
      ],
      "source": [
        "from transformers import pipeline\n",
        "\n",
        "fill_mask = pipeline(task=\"fill-mask\", model=\"bert-base-chinese\")"
      ]
    },
    {
      "cell_type": "code",
      "execution_count": 13,
      "id": "ac88584b-6826-4217-8b45-47c7a09be121",
      "metadata": {
        "id": "ac88584b-6826-4217-8b45-47c7a09be121",
        "outputId": "a314d59e-efb6-47c5-fdbe-0c729edf3132",
        "colab": {
          "base_uri": "https://localhost:8080/"
        }
      },
      "outputs": [
        {
          "output_type": "execute_result",
          "data": {
            "text/plain": [
              "[{'score': 0.9203748106956482,\n",
              "  'token': 679,\n",
              "  'token_str': '不',\n",
              "  'sequence': '人 民 是 不 可 战 胜 的'}]"
            ]
          },
          "metadata": {},
          "execution_count": 13
        }
      ],
      "source": [
        "text = \"人民是[MASK]可战胜的\"\n",
        "\n",
        "fill_mask(text, top_k=1)"
      ]
    },
    {
      "cell_type": "markdown",
      "id": "00e2b95b-4a9a-44ab-a065-fb9e1f1dd949",
      "metadata": {
        "id": "00e2b95b-4a9a-44ab-a065-fb9e1f1dd949"
      },
      "source": [
        "#### 设置文本补全的条数"
      ]
    },
    {
      "cell_type": "code",
      "execution_count": 14,
      "id": "a20e3400-6ea1-47a7-b90f-5ef900c0f16d",
      "metadata": {
        "id": "a20e3400-6ea1-47a7-b90f-5ef900c0f16d",
        "outputId": "b5eaa6fd-6a4b-49ba-84eb-b1c48748ac25",
        "colab": {
          "base_uri": "https://localhost:8080/"
        }
      },
      "outputs": [
        {
          "output_type": "execute_result",
          "data": {
            "text/plain": [
              "[{'score': 0.7596930265426636,\n",
              "  'token': 8043,\n",
              "  'token_str': '？',\n",
              "  'sequence': '美 国 的 首 都 是 ？'}]"
            ]
          },
          "metadata": {},
          "execution_count": 14
        }
      ],
      "source": [
        "text = \"美国的首都是[MASK]\"\n",
        "\n",
        "fill_mask(text, top_k=1)"
      ]
    },
    {
      "cell_type": "code",
      "execution_count": 15,
      "id": "7605103b-47b2-4c39-b9ad-bd2cf81dc4c8",
      "metadata": {
        "id": "7605103b-47b2-4c39-b9ad-bd2cf81dc4c8",
        "outputId": "fffc6170-d2a4-4cd4-bfd6-bec8dd2ff5e0",
        "colab": {
          "base_uri": "https://localhost:8080/"
        }
      },
      "outputs": [
        {
          "output_type": "execute_result",
          "data": {
            "text/plain": [
              "[{'score': 0.9911921620368958,\n",
              "  'token': 3791,\n",
              "  'token_str': '法',\n",
              "  'sequence': '巴 黎 是 法 国 的 首 都 。'}]"
            ]
          },
          "metadata": {},
          "execution_count": 15
        }
      ],
      "source": [
        "text = \"巴黎是[MASK]国的首都。\"\n",
        "fill_mask(text, top_k=1)"
      ]
    },
    {
      "cell_type": "code",
      "execution_count": 17,
      "id": "e5ca21ff-76ee-4447-8887-25371f9cec85",
      "metadata": {
        "id": "e5ca21ff-76ee-4447-8887-25371f9cec85",
        "outputId": "d23c0d24-eec1-4e52-d019-acf49b364f78",
        "colab": {
          "base_uri": "https://localhost:8080/"
        }
      },
      "outputs": [
        {
          "output_type": "execute_result",
          "data": {
            "text/plain": [
              "[{'score': 0.7596930265426636,\n",
              "  'token': 8043,\n",
              "  'token_str': '？',\n",
              "  'sequence': '美 国 的 首 都 是 ？'},\n",
              " {'score': 0.21126778423786163,\n",
              "  'token': 511,\n",
              "  'token_str': '。',\n",
              "  'sequence': '美 国 的 首 都 是 。'},\n",
              " {'score': 0.026834309101104736,\n",
              "  'token': 8013,\n",
              "  'token_str': '！',\n",
              "  'sequence': '美 国 的 首 都 是 ！'}]"
            ]
          },
          "metadata": {},
          "execution_count": 17
        }
      ],
      "source": [
        "text = \"美国的首都是[MASK]\"\n",
        "fill_mask(text, top_k=3)"
      ]
    },
    {
      "cell_type": "code",
      "execution_count": 18,
      "id": "843ae228-7063-4886-bfb6-f9a6173f341e",
      "metadata": {
        "id": "843ae228-7063-4886-bfb6-f9a6173f341e",
        "outputId": "ce6d420d-5db5-42a6-d11b-aef09c4e49f6",
        "colab": {
          "base_uri": "https://localhost:8080/"
        }
      },
      "outputs": [
        {
          "output_type": "execute_result",
          "data": {
            "text/plain": [
              "[[{'score': 0.5740301609039307,\n",
              "   'token': 5294,\n",
              "   'token_str': '纽',\n",
              "   'sequence': '[CLS] 美 国 的 首 都 是 纽 [MASK] [MASK] [SEP]'}],\n",
              " [{'score': 0.4926769733428955,\n",
              "   'token': 5276,\n",
              "   'token_str': '约',\n",
              "   'sequence': '[CLS] 美 国 的 首 都 是 [MASK] 约 [MASK] [SEP]'}],\n",
              " [{'score': 0.9353280067443848,\n",
              "   'token': 511,\n",
              "   'token_str': '。',\n",
              "   'sequence': '[CLS] 美 国 的 首 都 是 [MASK] [MASK] 。 [SEP]'}]]"
            ]
          },
          "metadata": {},
          "execution_count": 18
        }
      ],
      "source": [
        "text = \"美国的首都是[MASK][MASK][MASK]\"\n",
        "\n",
        "fill_mask(text, top_k=1)"
      ]
    },
    {
      "cell_type": "markdown",
      "id": "f4420914-a9b4-49db-b75b-c05beca89f0f",
      "metadata": {
        "id": "f4420914-a9b4-49db-b75b-c05beca89f0f"
      },
      "source": [
        "#### 思考：sequence 中出现的 [CLS] 和 [SEP] 是什么？"
      ]
    },
    {
      "cell_type": "code",
      "execution_count": 18,
      "id": "1d848e51-7ae3-4ed1-9a0d-3432d85228f7",
      "metadata": {
        "id": "1d848e51-7ae3-4ed1-9a0d-3432d85228f7"
      },
      "outputs": [],
      "source": []
    },
    {
      "cell_type": "markdown",
      "id": "1b8dc28a-e5d3-486e-963d-202798bb1db7",
      "metadata": {
        "id": "1b8dc28a-e5d3-486e-963d-202798bb1db7"
      },
      "source": [
        "## 使用 AutoClass 高效管理 `Tokenizer` 和 `Model`\n",
        "\n",
        "通常，您想要使用的模型（网络架构）可以从您提供给 `from_pretrained()` 方法的预训练模型的名称或路径中推测出来。\n",
        "\n",
        "AutoClasses就是为了帮助用户完成这个工作，以便根据`预训练权重/配置文件/词汇表的名称/路径自动检索相关模型`。\n",
        "\n",
        "比如手动加载`bert-base-chinese`模型以及对应的 `tokenizer` 方法如下：\n",
        "\n",
        "```python\n",
        "from transformers import AutoTokenizer, AutoModel\n",
        "\n",
        "tokenizer = AutoTokenizer.from_pretrained(\"bert-base-chinese\")\n",
        "model = AutoModel.from_pretrained(\"bert-base-chinese\")\n",
        "```\n",
        "\n",
        "以下是我们实际操作和演示：\n",
        "\n",
        "### 使用 `from_pretrained` 方法加载指定 Model 和 Tokenizer"
      ]
    },
    {
      "cell_type": "code",
      "execution_count": 19,
      "id": "c18dbf7d-7010-4f61-8c78-ec5ebfd4a49b",
      "metadata": {
        "id": "c18dbf7d-7010-4f61-8c78-ec5ebfd4a49b"
      },
      "outputs": [],
      "source": [
        "from transformers import AutoTokenizer, AutoModel\n",
        "\n",
        "model_name = \"bert-base-chinese\"\n",
        "\n",
        "tokenizer = AutoTokenizer.from_pretrained(model_name)\n",
        "model = AutoModel.from_pretrained(model_name)"
      ]
    },
    {
      "cell_type": "markdown",
      "id": "b4abfde6-b493-40af-b09b-4533dc6450ab",
      "metadata": {
        "id": "b4abfde6-b493-40af-b09b-4533dc6450ab"
      },
      "source": [
        "#### 使用 BERT Tokenizer 编码文本\n",
        "\n",
        "编码 (Encoding) 过程包含两个步骤：\n",
        "\n",
        "- 分词：使用分词器按某种策略将文本切分为 tokens；\n",
        "- 映射：将 tokens 转化为对应的 token IDs。"
      ]
    },
    {
      "cell_type": "code",
      "execution_count": 20,
      "id": "be846040-a2f2-485a-a1f3-a89e8f762a28",
      "metadata": {
        "id": "be846040-a2f2-485a-a1f3-a89e8f762a28",
        "outputId": "c60dabb3-478b-44c6-df45-f4786dff0207",
        "colab": {
          "base_uri": "https://localhost:8080/"
        }
      },
      "outputs": [
        {
          "output_type": "stream",
          "name": "stdout",
          "text": [
            "['美', '国', '的', '首', '都', '是', '华', '盛', '顿', '特', '区']\n"
          ]
        }
      ],
      "source": [
        "# 第一步：分词\n",
        "sequence = \"美国的首都是华盛顿特区\"\n",
        "tokens = tokenizer.tokenize(sequence)\n",
        "print(tokens)"
      ]
    },
    {
      "cell_type": "code",
      "execution_count": 22,
      "id": "3870d69e-0efb-4807-b23a-7092be8e8829",
      "metadata": {
        "id": "3870d69e-0efb-4807-b23a-7092be8e8829"
      },
      "outputs": [],
      "source": [
        "# 第二步：映射\n",
        "token_ids = tokenizer.convert_tokens_to_ids(tokens)"
      ]
    },
    {
      "cell_type": "code",
      "execution_count": 23,
      "id": "c2c57682-1604-49e1-9b74-ff4244c1be21",
      "metadata": {
        "id": "c2c57682-1604-49e1-9b74-ff4244c1be21",
        "outputId": "351bd81c-e1e4-4ac1-d943-af480564ae1c",
        "colab": {
          "base_uri": "https://localhost:8080/"
        }
      },
      "outputs": [
        {
          "output_type": "stream",
          "name": "stdout",
          "text": [
            "[5401, 1744, 4638, 7674, 6963, 3221, 1290, 4670, 7561, 4294, 1277]\n"
          ]
        }
      ],
      "source": [
        "print(token_ids)"
      ]
    },
    {
      "cell_type": "markdown",
      "id": "76db0ce9-67cf-4cf8-b85c-b88e3fbb63a6",
      "metadata": {
        "id": "76db0ce9-67cf-4cf8-b85c-b88e3fbb63a6"
      },
      "source": [
        "#### 使用 Tokenizer.encode 方法端到端处理\n"
      ]
    },
    {
      "cell_type": "code",
      "execution_count": 24,
      "id": "6b804143-de27-4fad-bb94-90cfff2d503c",
      "metadata": {
        "id": "6b804143-de27-4fad-bb94-90cfff2d503c"
      },
      "outputs": [],
      "source": [
        "token_ids_e2e = tokenizer.encode(sequence)"
      ]
    },
    {
      "cell_type": "code",
      "execution_count": 25,
      "id": "06235807-6d1e-4c4f-be68-1d775e8d4164",
      "metadata": {
        "id": "06235807-6d1e-4c4f-be68-1d775e8d4164",
        "outputId": "3b53a3df-4f75-423a-8a6b-8326313dbb39",
        "colab": {
          "base_uri": "https://localhost:8080/"
        }
      },
      "outputs": [
        {
          "output_type": "execute_result",
          "data": {
            "text/plain": [
              "[101, 5401, 1744, 4638, 7674, 6963, 3221, 1290, 4670, 7561, 4294, 1277, 102]"
            ]
          },
          "metadata": {},
          "execution_count": 25
        }
      ],
      "source": [
        "token_ids_e2e"
      ]
    },
    {
      "cell_type": "markdown",
      "id": "5d2ff88a-3a6d-4dbb-9f16-8bc82d0edb06",
      "metadata": {
        "id": "5d2ff88a-3a6d-4dbb-9f16-8bc82d0edb06"
      },
      "source": [
        "#### 思考：为什么前后新增了 101 和 102？"
      ]
    },
    {
      "cell_type": "code",
      "execution_count": 28,
      "id": "e2ef8588-27cd-4380-a4dd-45f762560067",
      "metadata": {
        "id": "e2ef8588-27cd-4380-a4dd-45f762560067",
        "outputId": "fcace152-8f47-4ef1-fc17-44a4188525d9",
        "colab": {
          "base_uri": "https://localhost:8080/",
          "height": 35
        }
      },
      "outputs": [
        {
          "output_type": "execute_result",
          "data": {
            "text/plain": [
              "'美 国 的 首 都 是 华 盛 顿 特 区'"
            ],
            "application/vnd.google.colaboratory.intrinsic+json": {
              "type": "string"
            }
          },
          "metadata": {},
          "execution_count": 28
        }
      ],
      "source": [
        "tokenizer.decode(token_ids)"
      ]
    },
    {
      "cell_type": "code",
      "execution_count": 29,
      "id": "57842742-83ef-41d2-a1bc-fe0792885edb",
      "metadata": {
        "id": "57842742-83ef-41d2-a1bc-fe0792885edb",
        "outputId": "9e631d6b-e8e5-4e83-da72-118b73990996",
        "colab": {
          "base_uri": "https://localhost:8080/",
          "height": 35
        }
      },
      "outputs": [
        {
          "output_type": "execute_result",
          "data": {
            "text/plain": [
              "'[CLS] 美 国 的 首 都 是 华 盛 顿 特 区 [SEP]'"
            ],
            "application/vnd.google.colaboratory.intrinsic+json": {
              "type": "string"
            }
          },
          "metadata": {},
          "execution_count": 29
        }
      ],
      "source": [
        "tokenizer.decode(token_ids_e2e)"
      ]
    },
    {
      "cell_type": "markdown",
      "id": "b67fb249-a512-44ae-8a8d-63d12e1b1537",
      "metadata": {
        "id": "b67fb249-a512-44ae-8a8d-63d12e1b1537"
      },
      "source": [
        "#### 编解码多段文本"
      ]
    },
    {
      "cell_type": "code",
      "execution_count": 30,
      "id": "b339389e-50e6-4aeb-8262-0c9325690dfb",
      "metadata": {
        "id": "b339389e-50e6-4aeb-8262-0c9325690dfb"
      },
      "outputs": [],
      "source": [
        "sequence_batch = [\"美国的首都是华盛顿特区\", \"中国的首都是北京\"]"
      ]
    },
    {
      "cell_type": "code",
      "execution_count": 31,
      "id": "b22b5448-3028-4723-a568-cb7089eedc22",
      "metadata": {
        "id": "b22b5448-3028-4723-a568-cb7089eedc22"
      },
      "outputs": [],
      "source": [
        "token_ids_batch = tokenizer.encode(sequence_batch)"
      ]
    },
    {
      "cell_type": "code",
      "execution_count": 32,
      "id": "75cd9676-afc0-46dd-8a0b-315bfb1d4b7f",
      "metadata": {
        "id": "75cd9676-afc0-46dd-8a0b-315bfb1d4b7f",
        "outputId": "8700e2cb-f9cc-405f-9f33-f7966ac6f27f",
        "colab": {
          "base_uri": "https://localhost:8080/",
          "height": 35
        }
      },
      "outputs": [
        {
          "output_type": "execute_result",
          "data": {
            "text/plain": [
              "'[CLS] 美 国 的 首 都 是 华 盛 顿 特 区 [SEP] 中 国 的 首 都 是 北 京 [SEP]'"
            ],
            "application/vnd.google.colaboratory.intrinsic+json": {
              "type": "string"
            }
          },
          "metadata": {},
          "execution_count": 32
        }
      ],
      "source": [
        "tokenizer.decode(token_ids_batch)"
      ]
    },
    {
      "cell_type": "markdown",
      "id": "48206a82-0a62-4db4-9550-3b5db83f65ee",
      "metadata": {
        "id": "48206a82-0a62-4db4-9550-3b5db83f65ee"
      },
      "source": [
        "![](https://github.com/DjangoPeng/LLM-quickstart/blob/main/transformers/docs/images/bert_pretrain.png?raw=1)"
      ]
    },
    {
      "cell_type": "markdown",
      "id": "790f3f7c-da00-40fd-a9a8-2cf31164c638",
      "metadata": {
        "id": "790f3f7c-da00-40fd-a9a8-2cf31164c638"
      },
      "source": [
        "### 实操建议：直接使用 tokenizer.\\_\\_call\\_\\_ 方法完成文本编码 + 特殊编码补全\n",
        "\n",
        "编码后返回结果：\n",
        "\n",
        "```json\n",
        "input_ids: token_ids\n",
        "token_type_ids: token_id 归属的句子编号\n",
        "attention_mask: 指示哪些token需要被关注（注意力机制）\n",
        "```"
      ]
    },
    {
      "cell_type": "code",
      "execution_count": 33,
      "id": "3ce65811-a559-46da-bb24-1550339dd291",
      "metadata": {
        "id": "3ce65811-a559-46da-bb24-1550339dd291",
        "outputId": "c05f5621-8de7-42fc-91ec-da6014138506",
        "colab": {
          "base_uri": "https://localhost:8080/"
        }
      },
      "outputs": [
        {
          "output_type": "stream",
          "name": "stdout",
          "text": [
            "{'input_ids': [101, 5401, 1744, 4638, 7674, 6963, 3221, 1290, 4670, 7561, 4294, 1277, 102, 704, 1744, 4638, 7674, 6963, 3221, 1266, 776, 102], 'token_type_ids': [0, 0, 0, 0, 0, 0, 0, 0, 0, 0, 0, 0, 0, 1, 1, 1, 1, 1, 1, 1, 1, 1], 'attention_mask': [1, 1, 1, 1, 1, 1, 1, 1, 1, 1, 1, 1, 1, 1, 1, 1, 1, 1, 1, 1, 1, 1]}\n"
          ]
        }
      ],
      "source": [
        "embedding_batch = tokenizer(\"美国的首都是华盛顿特区\", \"中国的首都是北京\")\n",
        "print(embedding_batch)"
      ]
    },
    {
      "cell_type": "code",
      "execution_count": 34,
      "id": "fd553fdf-9402-46c8-9e86-ee87c4c4a644",
      "metadata": {
        "id": "fd553fdf-9402-46c8-9e86-ee87c4c4a644",
        "outputId": "3371c53b-e9f6-42ed-eaa0-6897a8987085",
        "colab": {
          "base_uri": "https://localhost:8080/"
        }
      },
      "outputs": [
        {
          "output_type": "stream",
          "name": "stdout",
          "text": [
            "input_ids: [101, 5401, 1744, 4638, 7674, 6963, 3221, 1290, 4670, 7561, 4294, 1277, 102, 704, 1744, 4638, 7674, 6963, 3221, 1266, 776, 102]\n",
            "\n",
            "token_type_ids: [0, 0, 0, 0, 0, 0, 0, 0, 0, 0, 0, 0, 0, 1, 1, 1, 1, 1, 1, 1, 1, 1]\n",
            "\n",
            "attention_mask: [1, 1, 1, 1, 1, 1, 1, 1, 1, 1, 1, 1, 1, 1, 1, 1, 1, 1, 1, 1, 1, 1]\n",
            "\n"
          ]
        }
      ],
      "source": [
        "# 优化下输出结构\n",
        "for key, value in embedding_batch.items():\n",
        "    print(f\"{key}: {value}\\n\")"
      ]
    },
    {
      "cell_type": "markdown",
      "id": "8e2eb06b-582e-474d-b273-9129f2a5e3f7",
      "metadata": {
        "id": "8e2eb06b-582e-474d-b273-9129f2a5e3f7"
      },
      "source": [
        "### 添加新 Token\n",
        "\n",
        "当出现了词表或嵌入空间中不存在的新Token，需要使用 Tokenizer 将其添加到词表中。 Transformers 库提供了两种不同方法：\n",
        "\n",
        "- add_tokens: 添加常规的正文文本 Token，以追加（append）的方式添加到词表末尾。\n",
        "- add_special_tokens: 添加特殊用途的 Token，优先在已有特殊词表中选择（`bos_token, eos_token, unk_token, sep_token, pad_token, cls_token, mask_token`）。如果预定义均不满足，则都添加到`additional_special_tokens`。\n",
        "\n",
        "#### 添加常规 Token\n",
        "\n",
        "先查看已有词表，确保新添加的 Token 不在词表中："
      ]
    },
    {
      "cell_type": "code",
      "execution_count": 35,
      "id": "051afd4f-371c-4587-8dce-bc50c2b7d926",
      "metadata": {
        "id": "051afd4f-371c-4587-8dce-bc50c2b7d926",
        "outputId": "cb57a460-4c56-436f-f38c-eb5d7d615b8f",
        "colab": {
          "base_uri": "https://localhost:8080/"
        }
      },
      "outputs": [
        {
          "output_type": "execute_result",
          "data": {
            "text/plain": [
              "21128"
            ]
          },
          "metadata": {},
          "execution_count": 35
        }
      ],
      "source": [
        "len(tokenizer.vocab.keys())"
      ]
    },
    {
      "cell_type": "code",
      "execution_count": 36,
      "id": "877756c3-15e8-4837-9ab2-2d4378a7be16",
      "metadata": {
        "id": "877756c3-15e8-4837-9ab2-2d4378a7be16",
        "outputId": "ab036f01-f3b6-4028-dea9-41ad6bd426f6",
        "colab": {
          "base_uri": "https://localhost:8080/"
        }
      },
      "outputs": [
        {
          "output_type": "stream",
          "name": "stdout",
          "text": [
            "揩: 2997\n",
            "##龟: 21048\n",
            "宮: 2152\n",
            "幽: 2406\n",
            "惴: 2683\n",
            "拾: 2896\n",
            "汨: 3740\n",
            "##mit: 11104\n",
            "侥: 902\n",
            "##莿: 18876\n"
          ]
        }
      ],
      "source": [
        "from itertools import islice\n",
        "\n",
        "# 使用 islice 查看词表部分内容\n",
        "for key, value in islice(tokenizer.vocab.items(), 10):\n",
        "    print(f\"{key}: {value}\")"
      ]
    },
    {
      "cell_type": "code",
      "execution_count": 37,
      "id": "27763ad6-16b2-4653-b3f2-03e1240e9178",
      "metadata": {
        "id": "27763ad6-16b2-4653-b3f2-03e1240e9178"
      },
      "outputs": [],
      "source": [
        "new_tokens = [\"天干\", \"地支\"]"
      ]
    },
    {
      "cell_type": "code",
      "execution_count": 38,
      "id": "3702b14a-dd84-4130-883a-f202bb31ef98",
      "metadata": {
        "id": "3702b14a-dd84-4130-883a-f202bb31ef98"
      },
      "outputs": [],
      "source": [
        "# 将集合作差结果添加到词表中\n",
        "new_tokens = set(new_tokens) - set(tokenizer.vocab.keys())"
      ]
    },
    {
      "cell_type": "code",
      "execution_count": 39,
      "id": "1abcee64-ecce-459d-87a1-08f5c5a18260",
      "metadata": {
        "id": "1abcee64-ecce-459d-87a1-08f5c5a18260",
        "outputId": "9a10766a-9dcb-4ad0-a581-279924b9e132",
        "colab": {
          "base_uri": "https://localhost:8080/"
        }
      },
      "outputs": [
        {
          "output_type": "execute_result",
          "data": {
            "text/plain": [
              "{'地支', '天干'}"
            ]
          },
          "metadata": {},
          "execution_count": 39
        }
      ],
      "source": [
        "new_tokens"
      ]
    },
    {
      "cell_type": "code",
      "execution_count": 40,
      "id": "0b5be3c5-2fb5-4a10-9eb2-abb7d795385f",
      "metadata": {
        "id": "0b5be3c5-2fb5-4a10-9eb2-abb7d795385f",
        "outputId": "4b7d66a7-0784-451a-ac64-1053a8d2ce3d",
        "colab": {
          "base_uri": "https://localhost:8080/"
        }
      },
      "outputs": [
        {
          "output_type": "execute_result",
          "data": {
            "text/plain": [
              "2"
            ]
          },
          "metadata": {},
          "execution_count": 40
        }
      ],
      "source": [
        "tokenizer.add_tokens(list(new_tokens))"
      ]
    },
    {
      "cell_type": "code",
      "execution_count": 41,
      "id": "91da172b-7f67-4509-b2fc-08272a5a5ee6",
      "metadata": {
        "id": "91da172b-7f67-4509-b2fc-08272a5a5ee6",
        "outputId": "f5716e71-7437-4a2c-db12-bce2c24cba3f",
        "colab": {
          "base_uri": "https://localhost:8080/"
        }
      },
      "outputs": [
        {
          "output_type": "execute_result",
          "data": {
            "text/plain": [
              "21130"
            ]
          },
          "metadata": {},
          "execution_count": 41
        }
      ],
      "source": [
        "# 新增加了2个Token，词表总数由 21128 增加到 21130\n",
        "len(tokenizer.vocab.keys())"
      ]
    },
    {
      "cell_type": "markdown",
      "id": "6fae854f-1e80-4e3b-b289-a0cb3b28bf28",
      "metadata": {
        "id": "6fae854f-1e80-4e3b-b289-a0cb3b28bf28"
      },
      "source": [
        "#### 添加特殊Token（审慎操作）"
      ]
    },
    {
      "cell_type": "code",
      "execution_count": null,
      "id": "930936d7-958f-458e-896a-36ab1bee9f29",
      "metadata": {
        "id": "930936d7-958f-458e-896a-36ab1bee9f29"
      },
      "outputs": [],
      "source": [
        "new_special_token = {\"sep_token\": \"NEW_SPECIAL_TOKEN\"}"
      ]
    },
    {
      "cell_type": "code",
      "execution_count": null,
      "id": "2cd63af1-64d5-4ff1-aa31-c7b6dab3d8a1",
      "metadata": {
        "id": "2cd63af1-64d5-4ff1-aa31-c7b6dab3d8a1",
        "outputId": "456a14e5-970a-48c2-f943-278665676e9f"
      },
      "outputs": [
        {
          "data": {
            "text/plain": [
              "1"
            ]
          },
          "execution_count": 42,
          "metadata": {},
          "output_type": "execute_result"
        }
      ],
      "source": [
        "tokenizer.add_special_tokens(new_special_token)"
      ]
    },
    {
      "cell_type": "code",
      "execution_count": null,
      "id": "97917514-889a-4f77-9d01-7d4dea561a94",
      "metadata": {
        "id": "97917514-889a-4f77-9d01-7d4dea561a94",
        "outputId": "71fd8e84-0372-473e-db82-434de48dc07c"
      },
      "outputs": [
        {
          "data": {
            "text/plain": [
              "21131"
            ]
          },
          "execution_count": 43,
          "metadata": {},
          "output_type": "execute_result"
        }
      ],
      "source": [
        "# 新增加了1个特殊Token，词表总数由 21128 增加到 21131\n",
        "len(tokenizer.vocab.keys())"
      ]
    },
    {
      "cell_type": "markdown",
      "id": "49f5e0dd-25e3-4530-b805-96736ba80da7",
      "metadata": {
        "id": "49f5e0dd-25e3-4530-b805-96736ba80da7"
      },
      "source": [
        "### 使用 `save_pretrained` 方法保存指定 Model 和 Tokenizer\n",
        "\n",
        "借助 `AutoClass` 的设计理念，保存 Model 和 Tokenizer 的方法也相当高效便捷。\n",
        "\n",
        "假设我们对`bert-base-chinese`模型以及对应的 `tokenizer` 做了修改，并更名为`new-bert-base-chinese`，方法如下：\n",
        "\n",
        "```python\n",
        "tokenizer.save_pretrained(\"./models/new-bert-base-chinese\")\n",
        "model.save_pretrained(\"./models/new-bert-base-chinese\")\n",
        "```\n",
        "\n",
        "保存 Tokenizer 会在指定路径下创建以下文件：\n",
        "- tokenizer.json: Tokenizer 元数据文件；\n",
        "- special_tokens_map.json: 特殊字符映射关系配置文件；\n",
        "- tokenizer_config.json: Tokenizer 基础配置文件，存储构建 Tokenizer 需要的参数；\n",
        "- vocab.txt: 词表文件；\n",
        "- added_tokens.json: 单独存放新增 Tokens 的配置文件。\n",
        "\n",
        "保存 Model 会在指定路径下创建以下文件：\n",
        "- config.json：模型配置文件，存储模型结构参数，例如 Transformer 层数、特征空间维度等；\n",
        "- pytorch_model.bin：又称为 state dictionary，存储模型的权重。"
      ]
    },
    {
      "cell_type": "code",
      "execution_count": 42,
      "id": "40adadd6-3f05-4345-92a1-ef93cffb8773",
      "metadata": {
        "id": "40adadd6-3f05-4345-92a1-ef93cffb8773",
        "outputId": "2568bd4f-9082-422f-c8d8-674150101568",
        "colab": {
          "base_uri": "https://localhost:8080/"
        }
      },
      "outputs": [
        {
          "output_type": "execute_result",
          "data": {
            "text/plain": [
              "('./models/new-bert-base-chinese/tokenizer_config.json',\n",
              " './models/new-bert-base-chinese/special_tokens_map.json',\n",
              " './models/new-bert-base-chinese/vocab.txt',\n",
              " './models/new-bert-base-chinese/added_tokens.json',\n",
              " './models/new-bert-base-chinese/tokenizer.json')"
            ]
          },
          "metadata": {},
          "execution_count": 42
        }
      ],
      "source": [
        "tokenizer.save_pretrained(\"./models/new-bert-base-chinese\")"
      ]
    },
    {
      "cell_type": "code",
      "execution_count": 43,
      "id": "e2fbb7cd-16c7-4f83-a3a0-006caf083d97",
      "metadata": {
        "id": "e2fbb7cd-16c7-4f83-a3a0-006caf083d97"
      },
      "outputs": [],
      "source": [
        "model.save_pretrained(\"./models/new-bert-base-chinese\")"
      ]
    },
    {
      "cell_type": "code",
      "execution_count": null,
      "id": "4509a3f5-fc80-4d7f-96ac-fae6e2e4d2ca",
      "metadata": {
        "id": "4509a3f5-fc80-4d7f-96ac-fae6e2e4d2ca"
      },
      "outputs": [],
      "source": []
    }
  ],
  "metadata": {
    "kernelspec": {
      "display_name": "Python 3 (ipykernel)",
      "language": "python",
      "name": "python3"
    },
    "language_info": {
      "codemirror_mode": {
        "name": "ipython",
        "version": 3
      },
      "file_extension": ".py",
      "mimetype": "text/x-python",
      "name": "python",
      "nbconvert_exporter": "python",
      "pygments_lexer": "ipython3",
      "version": "3.11.5"
    },
    "colab": {
      "provenance": [],
      "include_colab_link": true
    },
    "widgets": {
      "application/vnd.jupyter.widget-state+json": {
        "e69aed9ea6074a419b5b7aa8467e4db1": {
          "model_module": "@jupyter-widgets/controls",
          "model_name": "HBoxModel",
          "model_module_version": "1.5.0",
          "state": {
            "_dom_classes": [],
            "_model_module": "@jupyter-widgets/controls",
            "_model_module_version": "1.5.0",
            "_model_name": "HBoxModel",
            "_view_count": null,
            "_view_module": "@jupyter-widgets/controls",
            "_view_module_version": "1.5.0",
            "_view_name": "HBoxView",
            "box_style": "",
            "children": [
              "IPY_MODEL_7e8ff0cca7524b58bf42ddaac820b5ad",
              "IPY_MODEL_fd2a05e48e2243b0952cc8fcb308acfb",
              "IPY_MODEL_9f92e317c097482981ca125ef44189a6"
            ],
            "layout": "IPY_MODEL_44344c9fd15046d28acdde8aa16ab4d2"
          }
        },
        "7e8ff0cca7524b58bf42ddaac820b5ad": {
          "model_module": "@jupyter-widgets/controls",
          "model_name": "HTMLModel",
          "model_module_version": "1.5.0",
          "state": {
            "_dom_classes": [],
            "_model_module": "@jupyter-widgets/controls",
            "_model_module_version": "1.5.0",
            "_model_name": "HTMLModel",
            "_view_count": null,
            "_view_module": "@jupyter-widgets/controls",
            "_view_module_version": "1.5.0",
            "_view_name": "HTMLView",
            "description": "",
            "description_tooltip": null,
            "layout": "IPY_MODEL_8540e5f66a60475f929a8af605c5f913",
            "placeholder": "​",
            "style": "IPY_MODEL_fe5e83e13efc444e8f06c592294089d3",
            "value": "config.json: 100%"
          }
        },
        "fd2a05e48e2243b0952cc8fcb308acfb": {
          "model_module": "@jupyter-widgets/controls",
          "model_name": "FloatProgressModel",
          "model_module_version": "1.5.0",
          "state": {
            "_dom_classes": [],
            "_model_module": "@jupyter-widgets/controls",
            "_model_module_version": "1.5.0",
            "_model_name": "FloatProgressModel",
            "_view_count": null,
            "_view_module": "@jupyter-widgets/controls",
            "_view_module_version": "1.5.0",
            "_view_name": "ProgressView",
            "bar_style": "success",
            "description": "",
            "description_tooltip": null,
            "layout": "IPY_MODEL_7e8f62840a4840bebfdba4ff4ba7a080",
            "max": 624,
            "min": 0,
            "orientation": "horizontal",
            "style": "IPY_MODEL_d29bf710496f49f2bf8ec21ea8345212",
            "value": 624
          }
        },
        "9f92e317c097482981ca125ef44189a6": {
          "model_module": "@jupyter-widgets/controls",
          "model_name": "HTMLModel",
          "model_module_version": "1.5.0",
          "state": {
            "_dom_classes": [],
            "_model_module": "@jupyter-widgets/controls",
            "_model_module_version": "1.5.0",
            "_model_name": "HTMLModel",
            "_view_count": null,
            "_view_module": "@jupyter-widgets/controls",
            "_view_module_version": "1.5.0",
            "_view_name": "HTMLView",
            "description": "",
            "description_tooltip": null,
            "layout": "IPY_MODEL_074b96a261974652bbdc7780363962b2",
            "placeholder": "​",
            "style": "IPY_MODEL_fe680abdda7c4a8fb592fa82f8b28ff0",
            "value": " 624/624 [00:00&lt;00:00, 33.3kB/s]"
          }
        },
        "44344c9fd15046d28acdde8aa16ab4d2": {
          "model_module": "@jupyter-widgets/base",
          "model_name": "LayoutModel",
          "model_module_version": "1.2.0",
          "state": {
            "_model_module": "@jupyter-widgets/base",
            "_model_module_version": "1.2.0",
            "_model_name": "LayoutModel",
            "_view_count": null,
            "_view_module": "@jupyter-widgets/base",
            "_view_module_version": "1.2.0",
            "_view_name": "LayoutView",
            "align_content": null,
            "align_items": null,
            "align_self": null,
            "border": null,
            "bottom": null,
            "display": null,
            "flex": null,
            "flex_flow": null,
            "grid_area": null,
            "grid_auto_columns": null,
            "grid_auto_flow": null,
            "grid_auto_rows": null,
            "grid_column": null,
            "grid_gap": null,
            "grid_row": null,
            "grid_template_areas": null,
            "grid_template_columns": null,
            "grid_template_rows": null,
            "height": null,
            "justify_content": null,
            "justify_items": null,
            "left": null,
            "margin": null,
            "max_height": null,
            "max_width": null,
            "min_height": null,
            "min_width": null,
            "object_fit": null,
            "object_position": null,
            "order": null,
            "overflow": null,
            "overflow_x": null,
            "overflow_y": null,
            "padding": null,
            "right": null,
            "top": null,
            "visibility": null,
            "width": null
          }
        },
        "8540e5f66a60475f929a8af605c5f913": {
          "model_module": "@jupyter-widgets/base",
          "model_name": "LayoutModel",
          "model_module_version": "1.2.0",
          "state": {
            "_model_module": "@jupyter-widgets/base",
            "_model_module_version": "1.2.0",
            "_model_name": "LayoutModel",
            "_view_count": null,
            "_view_module": "@jupyter-widgets/base",
            "_view_module_version": "1.2.0",
            "_view_name": "LayoutView",
            "align_content": null,
            "align_items": null,
            "align_self": null,
            "border": null,
            "bottom": null,
            "display": null,
            "flex": null,
            "flex_flow": null,
            "grid_area": null,
            "grid_auto_columns": null,
            "grid_auto_flow": null,
            "grid_auto_rows": null,
            "grid_column": null,
            "grid_gap": null,
            "grid_row": null,
            "grid_template_areas": null,
            "grid_template_columns": null,
            "grid_template_rows": null,
            "height": null,
            "justify_content": null,
            "justify_items": null,
            "left": null,
            "margin": null,
            "max_height": null,
            "max_width": null,
            "min_height": null,
            "min_width": null,
            "object_fit": null,
            "object_position": null,
            "order": null,
            "overflow": null,
            "overflow_x": null,
            "overflow_y": null,
            "padding": null,
            "right": null,
            "top": null,
            "visibility": null,
            "width": null
          }
        },
        "fe5e83e13efc444e8f06c592294089d3": {
          "model_module": "@jupyter-widgets/controls",
          "model_name": "DescriptionStyleModel",
          "model_module_version": "1.5.0",
          "state": {
            "_model_module": "@jupyter-widgets/controls",
            "_model_module_version": "1.5.0",
            "_model_name": "DescriptionStyleModel",
            "_view_count": null,
            "_view_module": "@jupyter-widgets/base",
            "_view_module_version": "1.2.0",
            "_view_name": "StyleView",
            "description_width": ""
          }
        },
        "7e8f62840a4840bebfdba4ff4ba7a080": {
          "model_module": "@jupyter-widgets/base",
          "model_name": "LayoutModel",
          "model_module_version": "1.2.0",
          "state": {
            "_model_module": "@jupyter-widgets/base",
            "_model_module_version": "1.2.0",
            "_model_name": "LayoutModel",
            "_view_count": null,
            "_view_module": "@jupyter-widgets/base",
            "_view_module_version": "1.2.0",
            "_view_name": "LayoutView",
            "align_content": null,
            "align_items": null,
            "align_self": null,
            "border": null,
            "bottom": null,
            "display": null,
            "flex": null,
            "flex_flow": null,
            "grid_area": null,
            "grid_auto_columns": null,
            "grid_auto_flow": null,
            "grid_auto_rows": null,
            "grid_column": null,
            "grid_gap": null,
            "grid_row": null,
            "grid_template_areas": null,
            "grid_template_columns": null,
            "grid_template_rows": null,
            "height": null,
            "justify_content": null,
            "justify_items": null,
            "left": null,
            "margin": null,
            "max_height": null,
            "max_width": null,
            "min_height": null,
            "min_width": null,
            "object_fit": null,
            "object_position": null,
            "order": null,
            "overflow": null,
            "overflow_x": null,
            "overflow_y": null,
            "padding": null,
            "right": null,
            "top": null,
            "visibility": null,
            "width": null
          }
        },
        "d29bf710496f49f2bf8ec21ea8345212": {
          "model_module": "@jupyter-widgets/controls",
          "model_name": "ProgressStyleModel",
          "model_module_version": "1.5.0",
          "state": {
            "_model_module": "@jupyter-widgets/controls",
            "_model_module_version": "1.5.0",
            "_model_name": "ProgressStyleModel",
            "_view_count": null,
            "_view_module": "@jupyter-widgets/base",
            "_view_module_version": "1.2.0",
            "_view_name": "StyleView",
            "bar_color": null,
            "description_width": ""
          }
        },
        "074b96a261974652bbdc7780363962b2": {
          "model_module": "@jupyter-widgets/base",
          "model_name": "LayoutModel",
          "model_module_version": "1.2.0",
          "state": {
            "_model_module": "@jupyter-widgets/base",
            "_model_module_version": "1.2.0",
            "_model_name": "LayoutModel",
            "_view_count": null,
            "_view_module": "@jupyter-widgets/base",
            "_view_module_version": "1.2.0",
            "_view_name": "LayoutView",
            "align_content": null,
            "align_items": null,
            "align_self": null,
            "border": null,
            "bottom": null,
            "display": null,
            "flex": null,
            "flex_flow": null,
            "grid_area": null,
            "grid_auto_columns": null,
            "grid_auto_flow": null,
            "grid_auto_rows": null,
            "grid_column": null,
            "grid_gap": null,
            "grid_row": null,
            "grid_template_areas": null,
            "grid_template_columns": null,
            "grid_template_rows": null,
            "height": null,
            "justify_content": null,
            "justify_items": null,
            "left": null,
            "margin": null,
            "max_height": null,
            "max_width": null,
            "min_height": null,
            "min_width": null,
            "object_fit": null,
            "object_position": null,
            "order": null,
            "overflow": null,
            "overflow_x": null,
            "overflow_y": null,
            "padding": null,
            "right": null,
            "top": null,
            "visibility": null,
            "width": null
          }
        },
        "fe680abdda7c4a8fb592fa82f8b28ff0": {
          "model_module": "@jupyter-widgets/controls",
          "model_name": "DescriptionStyleModel",
          "model_module_version": "1.5.0",
          "state": {
            "_model_module": "@jupyter-widgets/controls",
            "_model_module_version": "1.5.0",
            "_model_name": "DescriptionStyleModel",
            "_view_count": null,
            "_view_module": "@jupyter-widgets/base",
            "_view_module_version": "1.2.0",
            "_view_name": "StyleView",
            "description_width": ""
          }
        },
        "b36c1900e63f4bcfa695b2d3023851a5": {
          "model_module": "@jupyter-widgets/controls",
          "model_name": "HBoxModel",
          "model_module_version": "1.5.0",
          "state": {
            "_dom_classes": [],
            "_model_module": "@jupyter-widgets/controls",
            "_model_module_version": "1.5.0",
            "_model_name": "HBoxModel",
            "_view_count": null,
            "_view_module": "@jupyter-widgets/controls",
            "_view_module_version": "1.5.0",
            "_view_name": "HBoxView",
            "box_style": "",
            "children": [
              "IPY_MODEL_afbdba063a7c4a96b07e0e264f200c9c",
              "IPY_MODEL_59b1fc5df99749a79ab1d91bd8a85e2e",
              "IPY_MODEL_364deafa49024770ba7b6f0db1711ca3"
            ],
            "layout": "IPY_MODEL_96ca9f151cc244a6aaadef9821a4f86b"
          }
        },
        "afbdba063a7c4a96b07e0e264f200c9c": {
          "model_module": "@jupyter-widgets/controls",
          "model_name": "HTMLModel",
          "model_module_version": "1.5.0",
          "state": {
            "_dom_classes": [],
            "_model_module": "@jupyter-widgets/controls",
            "_model_module_version": "1.5.0",
            "_model_name": "HTMLModel",
            "_view_count": null,
            "_view_module": "@jupyter-widgets/controls",
            "_view_module_version": "1.5.0",
            "_view_name": "HTMLView",
            "description": "",
            "description_tooltip": null,
            "layout": "IPY_MODEL_d14c1728a61243f8b12e7c500e6c78a2",
            "placeholder": "​",
            "style": "IPY_MODEL_e1ed3947bccc4be78580789e59c8c942",
            "value": "model.safetensors: 100%"
          }
        },
        "59b1fc5df99749a79ab1d91bd8a85e2e": {
          "model_module": "@jupyter-widgets/controls",
          "model_name": "FloatProgressModel",
          "model_module_version": "1.5.0",
          "state": {
            "_dom_classes": [],
            "_model_module": "@jupyter-widgets/controls",
            "_model_module_version": "1.5.0",
            "_model_name": "FloatProgressModel",
            "_view_count": null,
            "_view_module": "@jupyter-widgets/controls",
            "_view_module_version": "1.5.0",
            "_view_name": "ProgressView",
            "bar_style": "success",
            "description": "",
            "description_tooltip": null,
            "layout": "IPY_MODEL_b44f4db89a0547b8a863bbc8fe5da5a7",
            "max": 411553788,
            "min": 0,
            "orientation": "horizontal",
            "style": "IPY_MODEL_52745674c33b4a00900a464c8d9390dd",
            "value": 411553788
          }
        },
        "364deafa49024770ba7b6f0db1711ca3": {
          "model_module": "@jupyter-widgets/controls",
          "model_name": "HTMLModel",
          "model_module_version": "1.5.0",
          "state": {
            "_dom_classes": [],
            "_model_module": "@jupyter-widgets/controls",
            "_model_module_version": "1.5.0",
            "_model_name": "HTMLModel",
            "_view_count": null,
            "_view_module": "@jupyter-widgets/controls",
            "_view_module_version": "1.5.0",
            "_view_name": "HTMLView",
            "description": "",
            "description_tooltip": null,
            "layout": "IPY_MODEL_139a23eb74ef4417b2541e3129b12077",
            "placeholder": "​",
            "style": "IPY_MODEL_79377674d6654b6fa2aea9494947a71c",
            "value": " 412M/412M [00:06&lt;00:00, 59.6MB/s]"
          }
        },
        "96ca9f151cc244a6aaadef9821a4f86b": {
          "model_module": "@jupyter-widgets/base",
          "model_name": "LayoutModel",
          "model_module_version": "1.2.0",
          "state": {
            "_model_module": "@jupyter-widgets/base",
            "_model_module_version": "1.2.0",
            "_model_name": "LayoutModel",
            "_view_count": null,
            "_view_module": "@jupyter-widgets/base",
            "_view_module_version": "1.2.0",
            "_view_name": "LayoutView",
            "align_content": null,
            "align_items": null,
            "align_self": null,
            "border": null,
            "bottom": null,
            "display": null,
            "flex": null,
            "flex_flow": null,
            "grid_area": null,
            "grid_auto_columns": null,
            "grid_auto_flow": null,
            "grid_auto_rows": null,
            "grid_column": null,
            "grid_gap": null,
            "grid_row": null,
            "grid_template_areas": null,
            "grid_template_columns": null,
            "grid_template_rows": null,
            "height": null,
            "justify_content": null,
            "justify_items": null,
            "left": null,
            "margin": null,
            "max_height": null,
            "max_width": null,
            "min_height": null,
            "min_width": null,
            "object_fit": null,
            "object_position": null,
            "order": null,
            "overflow": null,
            "overflow_x": null,
            "overflow_y": null,
            "padding": null,
            "right": null,
            "top": null,
            "visibility": null,
            "width": null
          }
        },
        "d14c1728a61243f8b12e7c500e6c78a2": {
          "model_module": "@jupyter-widgets/base",
          "model_name": "LayoutModel",
          "model_module_version": "1.2.0",
          "state": {
            "_model_module": "@jupyter-widgets/base",
            "_model_module_version": "1.2.0",
            "_model_name": "LayoutModel",
            "_view_count": null,
            "_view_module": "@jupyter-widgets/base",
            "_view_module_version": "1.2.0",
            "_view_name": "LayoutView",
            "align_content": null,
            "align_items": null,
            "align_self": null,
            "border": null,
            "bottom": null,
            "display": null,
            "flex": null,
            "flex_flow": null,
            "grid_area": null,
            "grid_auto_columns": null,
            "grid_auto_flow": null,
            "grid_auto_rows": null,
            "grid_column": null,
            "grid_gap": null,
            "grid_row": null,
            "grid_template_areas": null,
            "grid_template_columns": null,
            "grid_template_rows": null,
            "height": null,
            "justify_content": null,
            "justify_items": null,
            "left": null,
            "margin": null,
            "max_height": null,
            "max_width": null,
            "min_height": null,
            "min_width": null,
            "object_fit": null,
            "object_position": null,
            "order": null,
            "overflow": null,
            "overflow_x": null,
            "overflow_y": null,
            "padding": null,
            "right": null,
            "top": null,
            "visibility": null,
            "width": null
          }
        },
        "e1ed3947bccc4be78580789e59c8c942": {
          "model_module": "@jupyter-widgets/controls",
          "model_name": "DescriptionStyleModel",
          "model_module_version": "1.5.0",
          "state": {
            "_model_module": "@jupyter-widgets/controls",
            "_model_module_version": "1.5.0",
            "_model_name": "DescriptionStyleModel",
            "_view_count": null,
            "_view_module": "@jupyter-widgets/base",
            "_view_module_version": "1.2.0",
            "_view_name": "StyleView",
            "description_width": ""
          }
        },
        "b44f4db89a0547b8a863bbc8fe5da5a7": {
          "model_module": "@jupyter-widgets/base",
          "model_name": "LayoutModel",
          "model_module_version": "1.2.0",
          "state": {
            "_model_module": "@jupyter-widgets/base",
            "_model_module_version": "1.2.0",
            "_model_name": "LayoutModel",
            "_view_count": null,
            "_view_module": "@jupyter-widgets/base",
            "_view_module_version": "1.2.0",
            "_view_name": "LayoutView",
            "align_content": null,
            "align_items": null,
            "align_self": null,
            "border": null,
            "bottom": null,
            "display": null,
            "flex": null,
            "flex_flow": null,
            "grid_area": null,
            "grid_auto_columns": null,
            "grid_auto_flow": null,
            "grid_auto_rows": null,
            "grid_column": null,
            "grid_gap": null,
            "grid_row": null,
            "grid_template_areas": null,
            "grid_template_columns": null,
            "grid_template_rows": null,
            "height": null,
            "justify_content": null,
            "justify_items": null,
            "left": null,
            "margin": null,
            "max_height": null,
            "max_width": null,
            "min_height": null,
            "min_width": null,
            "object_fit": null,
            "object_position": null,
            "order": null,
            "overflow": null,
            "overflow_x": null,
            "overflow_y": null,
            "padding": null,
            "right": null,
            "top": null,
            "visibility": null,
            "width": null
          }
        },
        "52745674c33b4a00900a464c8d9390dd": {
          "model_module": "@jupyter-widgets/controls",
          "model_name": "ProgressStyleModel",
          "model_module_version": "1.5.0",
          "state": {
            "_model_module": "@jupyter-widgets/controls",
            "_model_module_version": "1.5.0",
            "_model_name": "ProgressStyleModel",
            "_view_count": null,
            "_view_module": "@jupyter-widgets/base",
            "_view_module_version": "1.2.0",
            "_view_name": "StyleView",
            "bar_color": null,
            "description_width": ""
          }
        },
        "139a23eb74ef4417b2541e3129b12077": {
          "model_module": "@jupyter-widgets/base",
          "model_name": "LayoutModel",
          "model_module_version": "1.2.0",
          "state": {
            "_model_module": "@jupyter-widgets/base",
            "_model_module_version": "1.2.0",
            "_model_name": "LayoutModel",
            "_view_count": null,
            "_view_module": "@jupyter-widgets/base",
            "_view_module_version": "1.2.0",
            "_view_name": "LayoutView",
            "align_content": null,
            "align_items": null,
            "align_self": null,
            "border": null,
            "bottom": null,
            "display": null,
            "flex": null,
            "flex_flow": null,
            "grid_area": null,
            "grid_auto_columns": null,
            "grid_auto_flow": null,
            "grid_auto_rows": null,
            "grid_column": null,
            "grid_gap": null,
            "grid_row": null,
            "grid_template_areas": null,
            "grid_template_columns": null,
            "grid_template_rows": null,
            "height": null,
            "justify_content": null,
            "justify_items": null,
            "left": null,
            "margin": null,
            "max_height": null,
            "max_width": null,
            "min_height": null,
            "min_width": null,
            "object_fit": null,
            "object_position": null,
            "order": null,
            "overflow": null,
            "overflow_x": null,
            "overflow_y": null,
            "padding": null,
            "right": null,
            "top": null,
            "visibility": null,
            "width": null
          }
        },
        "79377674d6654b6fa2aea9494947a71c": {
          "model_module": "@jupyter-widgets/controls",
          "model_name": "DescriptionStyleModel",
          "model_module_version": "1.5.0",
          "state": {
            "_model_module": "@jupyter-widgets/controls",
            "_model_module_version": "1.5.0",
            "_model_name": "DescriptionStyleModel",
            "_view_count": null,
            "_view_module": "@jupyter-widgets/base",
            "_view_module_version": "1.2.0",
            "_view_name": "StyleView",
            "description_width": ""
          }
        },
        "71c50bbd3ebb4972b032b40311c9a380": {
          "model_module": "@jupyter-widgets/controls",
          "model_name": "HBoxModel",
          "model_module_version": "1.5.0",
          "state": {
            "_dom_classes": [],
            "_model_module": "@jupyter-widgets/controls",
            "_model_module_version": "1.5.0",
            "_model_name": "HBoxModel",
            "_view_count": null,
            "_view_module": "@jupyter-widgets/controls",
            "_view_module_version": "1.5.0",
            "_view_name": "HBoxView",
            "box_style": "",
            "children": [
              "IPY_MODEL_d973dc1858d5488db0632fbd80ca82f5",
              "IPY_MODEL_2482bea9415a4dd3a4247ed4513d2996",
              "IPY_MODEL_fabac09f699b4915ac1f04304234a457"
            ],
            "layout": "IPY_MODEL_b71a70de428b44bb83c32e78712c72be"
          }
        },
        "d973dc1858d5488db0632fbd80ca82f5": {
          "model_module": "@jupyter-widgets/controls",
          "model_name": "HTMLModel",
          "model_module_version": "1.5.0",
          "state": {
            "_dom_classes": [],
            "_model_module": "@jupyter-widgets/controls",
            "_model_module_version": "1.5.0",
            "_model_name": "HTMLModel",
            "_view_count": null,
            "_view_module": "@jupyter-widgets/controls",
            "_view_module_version": "1.5.0",
            "_view_name": "HTMLView",
            "description": "",
            "description_tooltip": null,
            "layout": "IPY_MODEL_51602745d7514c39a01b926d4ca1b0b2",
            "placeholder": "​",
            "style": "IPY_MODEL_adffc3b87cca4059a10cd8b8f30b81b2",
            "value": "tokenizer_config.json: 100%"
          }
        },
        "2482bea9415a4dd3a4247ed4513d2996": {
          "model_module": "@jupyter-widgets/controls",
          "model_name": "FloatProgressModel",
          "model_module_version": "1.5.0",
          "state": {
            "_dom_classes": [],
            "_model_module": "@jupyter-widgets/controls",
            "_model_module_version": "1.5.0",
            "_model_name": "FloatProgressModel",
            "_view_count": null,
            "_view_module": "@jupyter-widgets/controls",
            "_view_module_version": "1.5.0",
            "_view_name": "ProgressView",
            "bar_style": "success",
            "description": "",
            "description_tooltip": null,
            "layout": "IPY_MODEL_d06792b88e5146b4b1259f60070c2566",
            "max": 49,
            "min": 0,
            "orientation": "horizontal",
            "style": "IPY_MODEL_803e2b5c93ff4ff4a31853f67f6812bd",
            "value": 49
          }
        },
        "fabac09f699b4915ac1f04304234a457": {
          "model_module": "@jupyter-widgets/controls",
          "model_name": "HTMLModel",
          "model_module_version": "1.5.0",
          "state": {
            "_dom_classes": [],
            "_model_module": "@jupyter-widgets/controls",
            "_model_module_version": "1.5.0",
            "_model_name": "HTMLModel",
            "_view_count": null,
            "_view_module": "@jupyter-widgets/controls",
            "_view_module_version": "1.5.0",
            "_view_name": "HTMLView",
            "description": "",
            "description_tooltip": null,
            "layout": "IPY_MODEL_fd97f15be20b4cd6a489b2cd59a878e0",
            "placeholder": "​",
            "style": "IPY_MODEL_fda00d3d318e4bcd907853a02ca8d993",
            "value": " 49.0/49.0 [00:00&lt;00:00, 1.91kB/s]"
          }
        },
        "b71a70de428b44bb83c32e78712c72be": {
          "model_module": "@jupyter-widgets/base",
          "model_name": "LayoutModel",
          "model_module_version": "1.2.0",
          "state": {
            "_model_module": "@jupyter-widgets/base",
            "_model_module_version": "1.2.0",
            "_model_name": "LayoutModel",
            "_view_count": null,
            "_view_module": "@jupyter-widgets/base",
            "_view_module_version": "1.2.0",
            "_view_name": "LayoutView",
            "align_content": null,
            "align_items": null,
            "align_self": null,
            "border": null,
            "bottom": null,
            "display": null,
            "flex": null,
            "flex_flow": null,
            "grid_area": null,
            "grid_auto_columns": null,
            "grid_auto_flow": null,
            "grid_auto_rows": null,
            "grid_column": null,
            "grid_gap": null,
            "grid_row": null,
            "grid_template_areas": null,
            "grid_template_columns": null,
            "grid_template_rows": null,
            "height": null,
            "justify_content": null,
            "justify_items": null,
            "left": null,
            "margin": null,
            "max_height": null,
            "max_width": null,
            "min_height": null,
            "min_width": null,
            "object_fit": null,
            "object_position": null,
            "order": null,
            "overflow": null,
            "overflow_x": null,
            "overflow_y": null,
            "padding": null,
            "right": null,
            "top": null,
            "visibility": null,
            "width": null
          }
        },
        "51602745d7514c39a01b926d4ca1b0b2": {
          "model_module": "@jupyter-widgets/base",
          "model_name": "LayoutModel",
          "model_module_version": "1.2.0",
          "state": {
            "_model_module": "@jupyter-widgets/base",
            "_model_module_version": "1.2.0",
            "_model_name": "LayoutModel",
            "_view_count": null,
            "_view_module": "@jupyter-widgets/base",
            "_view_module_version": "1.2.0",
            "_view_name": "LayoutView",
            "align_content": null,
            "align_items": null,
            "align_self": null,
            "border": null,
            "bottom": null,
            "display": null,
            "flex": null,
            "flex_flow": null,
            "grid_area": null,
            "grid_auto_columns": null,
            "grid_auto_flow": null,
            "grid_auto_rows": null,
            "grid_column": null,
            "grid_gap": null,
            "grid_row": null,
            "grid_template_areas": null,
            "grid_template_columns": null,
            "grid_template_rows": null,
            "height": null,
            "justify_content": null,
            "justify_items": null,
            "left": null,
            "margin": null,
            "max_height": null,
            "max_width": null,
            "min_height": null,
            "min_width": null,
            "object_fit": null,
            "object_position": null,
            "order": null,
            "overflow": null,
            "overflow_x": null,
            "overflow_y": null,
            "padding": null,
            "right": null,
            "top": null,
            "visibility": null,
            "width": null
          }
        },
        "adffc3b87cca4059a10cd8b8f30b81b2": {
          "model_module": "@jupyter-widgets/controls",
          "model_name": "DescriptionStyleModel",
          "model_module_version": "1.5.0",
          "state": {
            "_model_module": "@jupyter-widgets/controls",
            "_model_module_version": "1.5.0",
            "_model_name": "DescriptionStyleModel",
            "_view_count": null,
            "_view_module": "@jupyter-widgets/base",
            "_view_module_version": "1.2.0",
            "_view_name": "StyleView",
            "description_width": ""
          }
        },
        "d06792b88e5146b4b1259f60070c2566": {
          "model_module": "@jupyter-widgets/base",
          "model_name": "LayoutModel",
          "model_module_version": "1.2.0",
          "state": {
            "_model_module": "@jupyter-widgets/base",
            "_model_module_version": "1.2.0",
            "_model_name": "LayoutModel",
            "_view_count": null,
            "_view_module": "@jupyter-widgets/base",
            "_view_module_version": "1.2.0",
            "_view_name": "LayoutView",
            "align_content": null,
            "align_items": null,
            "align_self": null,
            "border": null,
            "bottom": null,
            "display": null,
            "flex": null,
            "flex_flow": null,
            "grid_area": null,
            "grid_auto_columns": null,
            "grid_auto_flow": null,
            "grid_auto_rows": null,
            "grid_column": null,
            "grid_gap": null,
            "grid_row": null,
            "grid_template_areas": null,
            "grid_template_columns": null,
            "grid_template_rows": null,
            "height": null,
            "justify_content": null,
            "justify_items": null,
            "left": null,
            "margin": null,
            "max_height": null,
            "max_width": null,
            "min_height": null,
            "min_width": null,
            "object_fit": null,
            "object_position": null,
            "order": null,
            "overflow": null,
            "overflow_x": null,
            "overflow_y": null,
            "padding": null,
            "right": null,
            "top": null,
            "visibility": null,
            "width": null
          }
        },
        "803e2b5c93ff4ff4a31853f67f6812bd": {
          "model_module": "@jupyter-widgets/controls",
          "model_name": "ProgressStyleModel",
          "model_module_version": "1.5.0",
          "state": {
            "_model_module": "@jupyter-widgets/controls",
            "_model_module_version": "1.5.0",
            "_model_name": "ProgressStyleModel",
            "_view_count": null,
            "_view_module": "@jupyter-widgets/base",
            "_view_module_version": "1.2.0",
            "_view_name": "StyleView",
            "bar_color": null,
            "description_width": ""
          }
        },
        "fd97f15be20b4cd6a489b2cd59a878e0": {
          "model_module": "@jupyter-widgets/base",
          "model_name": "LayoutModel",
          "model_module_version": "1.2.0",
          "state": {
            "_model_module": "@jupyter-widgets/base",
            "_model_module_version": "1.2.0",
            "_model_name": "LayoutModel",
            "_view_count": null,
            "_view_module": "@jupyter-widgets/base",
            "_view_module_version": "1.2.0",
            "_view_name": "LayoutView",
            "align_content": null,
            "align_items": null,
            "align_self": null,
            "border": null,
            "bottom": null,
            "display": null,
            "flex": null,
            "flex_flow": null,
            "grid_area": null,
            "grid_auto_columns": null,
            "grid_auto_flow": null,
            "grid_auto_rows": null,
            "grid_column": null,
            "grid_gap": null,
            "grid_row": null,
            "grid_template_areas": null,
            "grid_template_columns": null,
            "grid_template_rows": null,
            "height": null,
            "justify_content": null,
            "justify_items": null,
            "left": null,
            "margin": null,
            "max_height": null,
            "max_width": null,
            "min_height": null,
            "min_width": null,
            "object_fit": null,
            "object_position": null,
            "order": null,
            "overflow": null,
            "overflow_x": null,
            "overflow_y": null,
            "padding": null,
            "right": null,
            "top": null,
            "visibility": null,
            "width": null
          }
        },
        "fda00d3d318e4bcd907853a02ca8d993": {
          "model_module": "@jupyter-widgets/controls",
          "model_name": "DescriptionStyleModel",
          "model_module_version": "1.5.0",
          "state": {
            "_model_module": "@jupyter-widgets/controls",
            "_model_module_version": "1.5.0",
            "_model_name": "DescriptionStyleModel",
            "_view_count": null,
            "_view_module": "@jupyter-widgets/base",
            "_view_module_version": "1.2.0",
            "_view_name": "StyleView",
            "description_width": ""
          }
        },
        "8a2477dbe6804d6781b6b1f4065c7421": {
          "model_module": "@jupyter-widgets/controls",
          "model_name": "HBoxModel",
          "model_module_version": "1.5.0",
          "state": {
            "_dom_classes": [],
            "_model_module": "@jupyter-widgets/controls",
            "_model_module_version": "1.5.0",
            "_model_name": "HBoxModel",
            "_view_count": null,
            "_view_module": "@jupyter-widgets/controls",
            "_view_module_version": "1.5.0",
            "_view_name": "HBoxView",
            "box_style": "",
            "children": [
              "IPY_MODEL_a270f348359b4abfb3b38dfebbc2fde2",
              "IPY_MODEL_ba157d9aa9c24a65b024cdcc88a1ddb3",
              "IPY_MODEL_c88511184b2d4f798a8fa0aa222d328f"
            ],
            "layout": "IPY_MODEL_1e7ebbfa0619455595c96f23f94b74aa"
          }
        },
        "a270f348359b4abfb3b38dfebbc2fde2": {
          "model_module": "@jupyter-widgets/controls",
          "model_name": "HTMLModel",
          "model_module_version": "1.5.0",
          "state": {
            "_dom_classes": [],
            "_model_module": "@jupyter-widgets/controls",
            "_model_module_version": "1.5.0",
            "_model_name": "HTMLModel",
            "_view_count": null,
            "_view_module": "@jupyter-widgets/controls",
            "_view_module_version": "1.5.0",
            "_view_name": "HTMLView",
            "description": "",
            "description_tooltip": null,
            "layout": "IPY_MODEL_832371d8b42d4f85af28206f0d36ab59",
            "placeholder": "​",
            "style": "IPY_MODEL_019d48eefa6049939f1e146b2a6e05eb",
            "value": "vocab.txt: 100%"
          }
        },
        "ba157d9aa9c24a65b024cdcc88a1ddb3": {
          "model_module": "@jupyter-widgets/controls",
          "model_name": "FloatProgressModel",
          "model_module_version": "1.5.0",
          "state": {
            "_dom_classes": [],
            "_model_module": "@jupyter-widgets/controls",
            "_model_module_version": "1.5.0",
            "_model_name": "FloatProgressModel",
            "_view_count": null,
            "_view_module": "@jupyter-widgets/controls",
            "_view_module_version": "1.5.0",
            "_view_name": "ProgressView",
            "bar_style": "success",
            "description": "",
            "description_tooltip": null,
            "layout": "IPY_MODEL_a350cee37f9747ea9bd14160896ec9b9",
            "max": 109540,
            "min": 0,
            "orientation": "horizontal",
            "style": "IPY_MODEL_0418953b3f2a4c80900c814da89de4cb",
            "value": 109540
          }
        },
        "c88511184b2d4f798a8fa0aa222d328f": {
          "model_module": "@jupyter-widgets/controls",
          "model_name": "HTMLModel",
          "model_module_version": "1.5.0",
          "state": {
            "_dom_classes": [],
            "_model_module": "@jupyter-widgets/controls",
            "_model_module_version": "1.5.0",
            "_model_name": "HTMLModel",
            "_view_count": null,
            "_view_module": "@jupyter-widgets/controls",
            "_view_module_version": "1.5.0",
            "_view_name": "HTMLView",
            "description": "",
            "description_tooltip": null,
            "layout": "IPY_MODEL_dcdbd5409c6d4d93988e47cd2fad7632",
            "placeholder": "​",
            "style": "IPY_MODEL_2b9905afcb104a02916671809730aee9",
            "value": " 110k/110k [00:00&lt;00:00, 1.38MB/s]"
          }
        },
        "1e7ebbfa0619455595c96f23f94b74aa": {
          "model_module": "@jupyter-widgets/base",
          "model_name": "LayoutModel",
          "model_module_version": "1.2.0",
          "state": {
            "_model_module": "@jupyter-widgets/base",
            "_model_module_version": "1.2.0",
            "_model_name": "LayoutModel",
            "_view_count": null,
            "_view_module": "@jupyter-widgets/base",
            "_view_module_version": "1.2.0",
            "_view_name": "LayoutView",
            "align_content": null,
            "align_items": null,
            "align_self": null,
            "border": null,
            "bottom": null,
            "display": null,
            "flex": null,
            "flex_flow": null,
            "grid_area": null,
            "grid_auto_columns": null,
            "grid_auto_flow": null,
            "grid_auto_rows": null,
            "grid_column": null,
            "grid_gap": null,
            "grid_row": null,
            "grid_template_areas": null,
            "grid_template_columns": null,
            "grid_template_rows": null,
            "height": null,
            "justify_content": null,
            "justify_items": null,
            "left": null,
            "margin": null,
            "max_height": null,
            "max_width": null,
            "min_height": null,
            "min_width": null,
            "object_fit": null,
            "object_position": null,
            "order": null,
            "overflow": null,
            "overflow_x": null,
            "overflow_y": null,
            "padding": null,
            "right": null,
            "top": null,
            "visibility": null,
            "width": null
          }
        },
        "832371d8b42d4f85af28206f0d36ab59": {
          "model_module": "@jupyter-widgets/base",
          "model_name": "LayoutModel",
          "model_module_version": "1.2.0",
          "state": {
            "_model_module": "@jupyter-widgets/base",
            "_model_module_version": "1.2.0",
            "_model_name": "LayoutModel",
            "_view_count": null,
            "_view_module": "@jupyter-widgets/base",
            "_view_module_version": "1.2.0",
            "_view_name": "LayoutView",
            "align_content": null,
            "align_items": null,
            "align_self": null,
            "border": null,
            "bottom": null,
            "display": null,
            "flex": null,
            "flex_flow": null,
            "grid_area": null,
            "grid_auto_columns": null,
            "grid_auto_flow": null,
            "grid_auto_rows": null,
            "grid_column": null,
            "grid_gap": null,
            "grid_row": null,
            "grid_template_areas": null,
            "grid_template_columns": null,
            "grid_template_rows": null,
            "height": null,
            "justify_content": null,
            "justify_items": null,
            "left": null,
            "margin": null,
            "max_height": null,
            "max_width": null,
            "min_height": null,
            "min_width": null,
            "object_fit": null,
            "object_position": null,
            "order": null,
            "overflow": null,
            "overflow_x": null,
            "overflow_y": null,
            "padding": null,
            "right": null,
            "top": null,
            "visibility": null,
            "width": null
          }
        },
        "019d48eefa6049939f1e146b2a6e05eb": {
          "model_module": "@jupyter-widgets/controls",
          "model_name": "DescriptionStyleModel",
          "model_module_version": "1.5.0",
          "state": {
            "_model_module": "@jupyter-widgets/controls",
            "_model_module_version": "1.5.0",
            "_model_name": "DescriptionStyleModel",
            "_view_count": null,
            "_view_module": "@jupyter-widgets/base",
            "_view_module_version": "1.2.0",
            "_view_name": "StyleView",
            "description_width": ""
          }
        },
        "a350cee37f9747ea9bd14160896ec9b9": {
          "model_module": "@jupyter-widgets/base",
          "model_name": "LayoutModel",
          "model_module_version": "1.2.0",
          "state": {
            "_model_module": "@jupyter-widgets/base",
            "_model_module_version": "1.2.0",
            "_model_name": "LayoutModel",
            "_view_count": null,
            "_view_module": "@jupyter-widgets/base",
            "_view_module_version": "1.2.0",
            "_view_name": "LayoutView",
            "align_content": null,
            "align_items": null,
            "align_self": null,
            "border": null,
            "bottom": null,
            "display": null,
            "flex": null,
            "flex_flow": null,
            "grid_area": null,
            "grid_auto_columns": null,
            "grid_auto_flow": null,
            "grid_auto_rows": null,
            "grid_column": null,
            "grid_gap": null,
            "grid_row": null,
            "grid_template_areas": null,
            "grid_template_columns": null,
            "grid_template_rows": null,
            "height": null,
            "justify_content": null,
            "justify_items": null,
            "left": null,
            "margin": null,
            "max_height": null,
            "max_width": null,
            "min_height": null,
            "min_width": null,
            "object_fit": null,
            "object_position": null,
            "order": null,
            "overflow": null,
            "overflow_x": null,
            "overflow_y": null,
            "padding": null,
            "right": null,
            "top": null,
            "visibility": null,
            "width": null
          }
        },
        "0418953b3f2a4c80900c814da89de4cb": {
          "model_module": "@jupyter-widgets/controls",
          "model_name": "ProgressStyleModel",
          "model_module_version": "1.5.0",
          "state": {
            "_model_module": "@jupyter-widgets/controls",
            "_model_module_version": "1.5.0",
            "_model_name": "ProgressStyleModel",
            "_view_count": null,
            "_view_module": "@jupyter-widgets/base",
            "_view_module_version": "1.2.0",
            "_view_name": "StyleView",
            "bar_color": null,
            "description_width": ""
          }
        },
        "dcdbd5409c6d4d93988e47cd2fad7632": {
          "model_module": "@jupyter-widgets/base",
          "model_name": "LayoutModel",
          "model_module_version": "1.2.0",
          "state": {
            "_model_module": "@jupyter-widgets/base",
            "_model_module_version": "1.2.0",
            "_model_name": "LayoutModel",
            "_view_count": null,
            "_view_module": "@jupyter-widgets/base",
            "_view_module_version": "1.2.0",
            "_view_name": "LayoutView",
            "align_content": null,
            "align_items": null,
            "align_self": null,
            "border": null,
            "bottom": null,
            "display": null,
            "flex": null,
            "flex_flow": null,
            "grid_area": null,
            "grid_auto_columns": null,
            "grid_auto_flow": null,
            "grid_auto_rows": null,
            "grid_column": null,
            "grid_gap": null,
            "grid_row": null,
            "grid_template_areas": null,
            "grid_template_columns": null,
            "grid_template_rows": null,
            "height": null,
            "justify_content": null,
            "justify_items": null,
            "left": null,
            "margin": null,
            "max_height": null,
            "max_width": null,
            "min_height": null,
            "min_width": null,
            "object_fit": null,
            "object_position": null,
            "order": null,
            "overflow": null,
            "overflow_x": null,
            "overflow_y": null,
            "padding": null,
            "right": null,
            "top": null,
            "visibility": null,
            "width": null
          }
        },
        "2b9905afcb104a02916671809730aee9": {
          "model_module": "@jupyter-widgets/controls",
          "model_name": "DescriptionStyleModel",
          "model_module_version": "1.5.0",
          "state": {
            "_model_module": "@jupyter-widgets/controls",
            "_model_module_version": "1.5.0",
            "_model_name": "DescriptionStyleModel",
            "_view_count": null,
            "_view_module": "@jupyter-widgets/base",
            "_view_module_version": "1.2.0",
            "_view_name": "StyleView",
            "description_width": ""
          }
        },
        "b21c1bdd523148b7a41e233c14231ff1": {
          "model_module": "@jupyter-widgets/controls",
          "model_name": "HBoxModel",
          "model_module_version": "1.5.0",
          "state": {
            "_dom_classes": [],
            "_model_module": "@jupyter-widgets/controls",
            "_model_module_version": "1.5.0",
            "_model_name": "HBoxModel",
            "_view_count": null,
            "_view_module": "@jupyter-widgets/controls",
            "_view_module_version": "1.5.0",
            "_view_name": "HBoxView",
            "box_style": "",
            "children": [
              "IPY_MODEL_9659d0491cad48e1a1a7fe6a68945eba",
              "IPY_MODEL_8e2c95c01b944510a092dff2b5417be9",
              "IPY_MODEL_22790fee0a1f4f79ae94d499cd275c05"
            ],
            "layout": "IPY_MODEL_dc71c233e1224c9b8b1618694426e962"
          }
        },
        "9659d0491cad48e1a1a7fe6a68945eba": {
          "model_module": "@jupyter-widgets/controls",
          "model_name": "HTMLModel",
          "model_module_version": "1.5.0",
          "state": {
            "_dom_classes": [],
            "_model_module": "@jupyter-widgets/controls",
            "_model_module_version": "1.5.0",
            "_model_name": "HTMLModel",
            "_view_count": null,
            "_view_module": "@jupyter-widgets/controls",
            "_view_module_version": "1.5.0",
            "_view_name": "HTMLView",
            "description": "",
            "description_tooltip": null,
            "layout": "IPY_MODEL_6c678a66afdc4e86b1cb10872c91a8b2",
            "placeholder": "​",
            "style": "IPY_MODEL_4ba1b47919bb4746b60e85dc91e2b80a",
            "value": "tokenizer.json: 100%"
          }
        },
        "8e2c95c01b944510a092dff2b5417be9": {
          "model_module": "@jupyter-widgets/controls",
          "model_name": "FloatProgressModel",
          "model_module_version": "1.5.0",
          "state": {
            "_dom_classes": [],
            "_model_module": "@jupyter-widgets/controls",
            "_model_module_version": "1.5.0",
            "_model_name": "FloatProgressModel",
            "_view_count": null,
            "_view_module": "@jupyter-widgets/controls",
            "_view_module_version": "1.5.0",
            "_view_name": "ProgressView",
            "bar_style": "success",
            "description": "",
            "description_tooltip": null,
            "layout": "IPY_MODEL_ab0a7d6801704d79bb4155ac033490e0",
            "max": 268943,
            "min": 0,
            "orientation": "horizontal",
            "style": "IPY_MODEL_83a47c48689c43c097e86a51182993f8",
            "value": 268943
          }
        },
        "22790fee0a1f4f79ae94d499cd275c05": {
          "model_module": "@jupyter-widgets/controls",
          "model_name": "HTMLModel",
          "model_module_version": "1.5.0",
          "state": {
            "_dom_classes": [],
            "_model_module": "@jupyter-widgets/controls",
            "_model_module_version": "1.5.0",
            "_model_name": "HTMLModel",
            "_view_count": null,
            "_view_module": "@jupyter-widgets/controls",
            "_view_module_version": "1.5.0",
            "_view_name": "HTMLView",
            "description": "",
            "description_tooltip": null,
            "layout": "IPY_MODEL_430e112217e646a697dd3a194f74a718",
            "placeholder": "​",
            "style": "IPY_MODEL_5f8adc9af3474741bf6ee6268206b483",
            "value": " 269k/269k [00:00&lt;00:00, 1.67MB/s]"
          }
        },
        "dc71c233e1224c9b8b1618694426e962": {
          "model_module": "@jupyter-widgets/base",
          "model_name": "LayoutModel",
          "model_module_version": "1.2.0",
          "state": {
            "_model_module": "@jupyter-widgets/base",
            "_model_module_version": "1.2.0",
            "_model_name": "LayoutModel",
            "_view_count": null,
            "_view_module": "@jupyter-widgets/base",
            "_view_module_version": "1.2.0",
            "_view_name": "LayoutView",
            "align_content": null,
            "align_items": null,
            "align_self": null,
            "border": null,
            "bottom": null,
            "display": null,
            "flex": null,
            "flex_flow": null,
            "grid_area": null,
            "grid_auto_columns": null,
            "grid_auto_flow": null,
            "grid_auto_rows": null,
            "grid_column": null,
            "grid_gap": null,
            "grid_row": null,
            "grid_template_areas": null,
            "grid_template_columns": null,
            "grid_template_rows": null,
            "height": null,
            "justify_content": null,
            "justify_items": null,
            "left": null,
            "margin": null,
            "max_height": null,
            "max_width": null,
            "min_height": null,
            "min_width": null,
            "object_fit": null,
            "object_position": null,
            "order": null,
            "overflow": null,
            "overflow_x": null,
            "overflow_y": null,
            "padding": null,
            "right": null,
            "top": null,
            "visibility": null,
            "width": null
          }
        },
        "6c678a66afdc4e86b1cb10872c91a8b2": {
          "model_module": "@jupyter-widgets/base",
          "model_name": "LayoutModel",
          "model_module_version": "1.2.0",
          "state": {
            "_model_module": "@jupyter-widgets/base",
            "_model_module_version": "1.2.0",
            "_model_name": "LayoutModel",
            "_view_count": null,
            "_view_module": "@jupyter-widgets/base",
            "_view_module_version": "1.2.0",
            "_view_name": "LayoutView",
            "align_content": null,
            "align_items": null,
            "align_self": null,
            "border": null,
            "bottom": null,
            "display": null,
            "flex": null,
            "flex_flow": null,
            "grid_area": null,
            "grid_auto_columns": null,
            "grid_auto_flow": null,
            "grid_auto_rows": null,
            "grid_column": null,
            "grid_gap": null,
            "grid_row": null,
            "grid_template_areas": null,
            "grid_template_columns": null,
            "grid_template_rows": null,
            "height": null,
            "justify_content": null,
            "justify_items": null,
            "left": null,
            "margin": null,
            "max_height": null,
            "max_width": null,
            "min_height": null,
            "min_width": null,
            "object_fit": null,
            "object_position": null,
            "order": null,
            "overflow": null,
            "overflow_x": null,
            "overflow_y": null,
            "padding": null,
            "right": null,
            "top": null,
            "visibility": null,
            "width": null
          }
        },
        "4ba1b47919bb4746b60e85dc91e2b80a": {
          "model_module": "@jupyter-widgets/controls",
          "model_name": "DescriptionStyleModel",
          "model_module_version": "1.5.0",
          "state": {
            "_model_module": "@jupyter-widgets/controls",
            "_model_module_version": "1.5.0",
            "_model_name": "DescriptionStyleModel",
            "_view_count": null,
            "_view_module": "@jupyter-widgets/base",
            "_view_module_version": "1.2.0",
            "_view_name": "StyleView",
            "description_width": ""
          }
        },
        "ab0a7d6801704d79bb4155ac033490e0": {
          "model_module": "@jupyter-widgets/base",
          "model_name": "LayoutModel",
          "model_module_version": "1.2.0",
          "state": {
            "_model_module": "@jupyter-widgets/base",
            "_model_module_version": "1.2.0",
            "_model_name": "LayoutModel",
            "_view_count": null,
            "_view_module": "@jupyter-widgets/base",
            "_view_module_version": "1.2.0",
            "_view_name": "LayoutView",
            "align_content": null,
            "align_items": null,
            "align_self": null,
            "border": null,
            "bottom": null,
            "display": null,
            "flex": null,
            "flex_flow": null,
            "grid_area": null,
            "grid_auto_columns": null,
            "grid_auto_flow": null,
            "grid_auto_rows": null,
            "grid_column": null,
            "grid_gap": null,
            "grid_row": null,
            "grid_template_areas": null,
            "grid_template_columns": null,
            "grid_template_rows": null,
            "height": null,
            "justify_content": null,
            "justify_items": null,
            "left": null,
            "margin": null,
            "max_height": null,
            "max_width": null,
            "min_height": null,
            "min_width": null,
            "object_fit": null,
            "object_position": null,
            "order": null,
            "overflow": null,
            "overflow_x": null,
            "overflow_y": null,
            "padding": null,
            "right": null,
            "top": null,
            "visibility": null,
            "width": null
          }
        },
        "83a47c48689c43c097e86a51182993f8": {
          "model_module": "@jupyter-widgets/controls",
          "model_name": "ProgressStyleModel",
          "model_module_version": "1.5.0",
          "state": {
            "_model_module": "@jupyter-widgets/controls",
            "_model_module_version": "1.5.0",
            "_model_name": "ProgressStyleModel",
            "_view_count": null,
            "_view_module": "@jupyter-widgets/base",
            "_view_module_version": "1.2.0",
            "_view_name": "StyleView",
            "bar_color": null,
            "description_width": ""
          }
        },
        "430e112217e646a697dd3a194f74a718": {
          "model_module": "@jupyter-widgets/base",
          "model_name": "LayoutModel",
          "model_module_version": "1.2.0",
          "state": {
            "_model_module": "@jupyter-widgets/base",
            "_model_module_version": "1.2.0",
            "_model_name": "LayoutModel",
            "_view_count": null,
            "_view_module": "@jupyter-widgets/base",
            "_view_module_version": "1.2.0",
            "_view_name": "LayoutView",
            "align_content": null,
            "align_items": null,
            "align_self": null,
            "border": null,
            "bottom": null,
            "display": null,
            "flex": null,
            "flex_flow": null,
            "grid_area": null,
            "grid_auto_columns": null,
            "grid_auto_flow": null,
            "grid_auto_rows": null,
            "grid_column": null,
            "grid_gap": null,
            "grid_row": null,
            "grid_template_areas": null,
            "grid_template_columns": null,
            "grid_template_rows": null,
            "height": null,
            "justify_content": null,
            "justify_items": null,
            "left": null,
            "margin": null,
            "max_height": null,
            "max_width": null,
            "min_height": null,
            "min_width": null,
            "object_fit": null,
            "object_position": null,
            "order": null,
            "overflow": null,
            "overflow_x": null,
            "overflow_y": null,
            "padding": null,
            "right": null,
            "top": null,
            "visibility": null,
            "width": null
          }
        },
        "5f8adc9af3474741bf6ee6268206b483": {
          "model_module": "@jupyter-widgets/controls",
          "model_name": "DescriptionStyleModel",
          "model_module_version": "1.5.0",
          "state": {
            "_model_module": "@jupyter-widgets/controls",
            "_model_module_version": "1.5.0",
            "_model_name": "DescriptionStyleModel",
            "_view_count": null,
            "_view_module": "@jupyter-widgets/base",
            "_view_module_version": "1.2.0",
            "_view_name": "StyleView",
            "description_width": ""
          }
        }
      }
    }
  },
  "nbformat": 4,
  "nbformat_minor": 5
}